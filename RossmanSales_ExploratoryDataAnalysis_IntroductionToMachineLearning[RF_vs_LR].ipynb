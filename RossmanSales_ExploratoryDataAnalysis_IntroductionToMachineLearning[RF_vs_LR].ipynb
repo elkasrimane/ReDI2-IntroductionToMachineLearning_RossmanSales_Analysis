{
  "cells": [
    {
      "cell_type": "markdown",
      "metadata": {
        "id": "_BDd5815piv0"
      },
      "source": [
        "# Business Problematic"
      ]
    },
    {
      "cell_type": "markdown",
      "metadata": {
        "id": "x3wxxSQMpwUn"
      },
      "source": [
        " **Prediction of Rossman sales in the next six weeks**"
      ]
    },
    {
      "cell_type": "markdown",
      "metadata": {
        "id": "l17KcyqwsVDR"
      },
      "source": [
        "# Reading Data"
      ]
    },
    {
      "cell_type": "code",
      "execution_count": null,
      "metadata": {
        "id": "l5wHtGOcrm4g"
      },
      "outputs": [],
      "source": [
        "# import relevant libraries\n",
        "import matplotlib.pyplot as plt\n",
        "from matplotlib import style\n",
        "style.use('ggplot')\n",
        "import pandas as pd\n",
        "from sklearn.ensemble import RandomForestRegressor\n",
        "import numpy as np\n",
        "import seaborn as sns"
      ]
    },
    {
      "cell_type": "code",
      "execution_count": null,
      "metadata": {
        "colab": {
          "base_uri": "https://localhost:8080/"
        },
        "id": "L7Pnur1dVO32",
        "outputId": "01088105-30c4-466f-eec4-6710c30a9bd6"
      },
      "outputs": [
        {
          "output_type": "stream",
          "name": "stdout",
          "text": [
            "Mounted at /content/drive\n"
          ]
        }
      ],
      "source": [
        "from google.colab import drive\n",
        "drive.mount('/content/drive')"
      ]
    },
    {
      "cell_type": "code",
      "execution_count": null,
      "metadata": {
        "colab": {
          "base_uri": "https://localhost:8080/"
        },
        "id": "oKGP5riorsX5",
        "outputId": "201b4a38-03b2-4fb3-c97d-23924ab681ce"
      },
      "outputs": [
        {
          "output_type": "stream",
          "name": "stderr",
          "text": [
            "/usr/local/lib/python3.7/dist-packages/IPython/core/interactiveshell.py:2718: DtypeWarning: Columns (7) have mixed types.Specify dtype option on import or set low_memory=False.\n",
            "  interactivity=interactivity, compiler=compiler, result=result)\n"
          ]
        }
      ],
      "source": [
        "# loading the 'train' dataset1 of 'Daily sales of each shop and other daily attributes'\n",
        "# Imane's path\n",
        "train = pd.read_csv(\"/content/drive/MyDrive/Redi2021/Copy of Copy of rossman_train.csv\")\n",
        "# # # # # loading the 'store' dataset2 of 'Attributes of each store (competitors, promos etc.)'\n",
        "store = pd.read_csv(\"/content/drive/MyDrive/Redi2021/Copy of Copy of rossman_store.csv\")\n"
      ]
    },
    {
      "cell_type": "markdown",
      "metadata": {
        "id": "RSjdq8aWsJ0H"
      },
      "source": [
        "**Datasets variables**\n",
        "- **Id** - an Id that represents a (Store, Date) duple within the test set\n",
        "- **Store** - a unique Id for each store\n",
        "- **Sales** - the turnover for any given day (this is what you are predicting)\n",
        "- **Customers** - the number of customers on a given day\n",
        "- **Open** - an indicator for whether the store was open: 0 = closed, 1 = open\n",
        "- **StateHoliday** - indicates a state holiday. Normally all stores, with few exceptions, are closed on state holidays. Note that all schools are closed on public holidays and weekends. a = public holiday, b = Easter holiday, c = Christmas, 0 = None SchoolHoliday - indicates if the (Store, Date) was affected by the closure of public schools\n",
        "- **StoreType** - differentiates between 4 different store models: a, b, c, d\n",
        "- **Assortment** - describes an assortment level: a = basic, b = extra, c = extended\n",
        "- **CompetitionDistance** - distance in meters to the nearest competitor store\n",
        "- **CompetitionOpenSince**[Month/Year] - gives the approximate year and month of the time the nearest competitor was opened\n",
        "- **Promo** - indicates whether a store is running a promo on that day\n",
        "- **Promo2** - Promo2 is a continuing and consecutive promotion for some stores: 0 = store is not participating, 1 = store is participating\n",
        "- **Promo2Since**[Year/Week] - describes the year and calendar week when the store started participating in Promo2\n",
        "- **PromoInterval** - describes the consecutive intervals Promo2 is started, naming the months the promotion is started anew. E.g.\"Feb,May,Aug,Nov\" means each round starts in February, May, August, November of any given year for that store"
      ]
    },
    {
      "cell_type": "code",
      "execution_count": null,
      "metadata": {
        "colab": {
          "base_uri": "https://localhost:8080/",
          "height": 206
        },
        "id": "rYHM16cWse5g",
        "outputId": "672ec421-5bf3-48fd-efe0-36e5967502bc"
      },
      "outputs": [
        {
          "output_type": "execute_result",
          "data": {
            "text/html": [
              "<div>\n",
              "<style scoped>\n",
              "    .dataframe tbody tr th:only-of-type {\n",
              "        vertical-align: middle;\n",
              "    }\n",
              "\n",
              "    .dataframe tbody tr th {\n",
              "        vertical-align: top;\n",
              "    }\n",
              "\n",
              "    .dataframe thead th {\n",
              "        text-align: right;\n",
              "    }\n",
              "</style>\n",
              "<table border=\"1\" class=\"dataframe\">\n",
              "  <thead>\n",
              "    <tr style=\"text-align: right;\">\n",
              "      <th></th>\n",
              "      <th>Store</th>\n",
              "      <th>DayOfWeek</th>\n",
              "      <th>Date</th>\n",
              "      <th>Sales</th>\n",
              "      <th>Customers</th>\n",
              "      <th>Open</th>\n",
              "      <th>Promo</th>\n",
              "      <th>StateHoliday</th>\n",
              "      <th>SchoolHoliday</th>\n",
              "    </tr>\n",
              "  </thead>\n",
              "  <tbody>\n",
              "    <tr>\n",
              "      <th>0</th>\n",
              "      <td>1</td>\n",
              "      <td>5</td>\n",
              "      <td>2015-07-31</td>\n",
              "      <td>5263</td>\n",
              "      <td>555</td>\n",
              "      <td>1</td>\n",
              "      <td>1</td>\n",
              "      <td>0</td>\n",
              "      <td>1</td>\n",
              "    </tr>\n",
              "    <tr>\n",
              "      <th>1</th>\n",
              "      <td>2</td>\n",
              "      <td>5</td>\n",
              "      <td>2015-07-31</td>\n",
              "      <td>6064</td>\n",
              "      <td>625</td>\n",
              "      <td>1</td>\n",
              "      <td>1</td>\n",
              "      <td>0</td>\n",
              "      <td>1</td>\n",
              "    </tr>\n",
              "    <tr>\n",
              "      <th>2</th>\n",
              "      <td>3</td>\n",
              "      <td>5</td>\n",
              "      <td>2015-07-31</td>\n",
              "      <td>8314</td>\n",
              "      <td>821</td>\n",
              "      <td>1</td>\n",
              "      <td>1</td>\n",
              "      <td>0</td>\n",
              "      <td>1</td>\n",
              "    </tr>\n",
              "    <tr>\n",
              "      <th>3</th>\n",
              "      <td>4</td>\n",
              "      <td>5</td>\n",
              "      <td>2015-07-31</td>\n",
              "      <td>13995</td>\n",
              "      <td>1498</td>\n",
              "      <td>1</td>\n",
              "      <td>1</td>\n",
              "      <td>0</td>\n",
              "      <td>1</td>\n",
              "    </tr>\n",
              "    <tr>\n",
              "      <th>4</th>\n",
              "      <td>5</td>\n",
              "      <td>5</td>\n",
              "      <td>2015-07-31</td>\n",
              "      <td>4822</td>\n",
              "      <td>559</td>\n",
              "      <td>1</td>\n",
              "      <td>1</td>\n",
              "      <td>0</td>\n",
              "      <td>1</td>\n",
              "    </tr>\n",
              "  </tbody>\n",
              "</table>\n",
              "</div>"
            ],
            "text/plain": [
              "   Store  DayOfWeek        Date  Sales  ...  Open  Promo  StateHoliday SchoolHoliday\n",
              "0      1          5  2015-07-31   5263  ...     1      1             0             1\n",
              "1      2          5  2015-07-31   6064  ...     1      1             0             1\n",
              "2      3          5  2015-07-31   8314  ...     1      1             0             1\n",
              "3      4          5  2015-07-31  13995  ...     1      1             0             1\n",
              "4      5          5  2015-07-31   4822  ...     1      1             0             1\n",
              "\n",
              "[5 rows x 9 columns]"
            ]
          },
          "metadata": {},
          "execution_count": 4
        }
      ],
      "source": [
        "train.head(5)\n",
        "train.head()"
      ]
    },
    {
      "cell_type": "code",
      "execution_count": null,
      "metadata": {
        "colab": {
          "base_uri": "https://localhost:8080/"
        },
        "id": "Mb1zE1fgsj2y",
        "outputId": "6f069ca7-8b09-40fc-90a0-f1f550c7a3e6"
      },
      "outputs": [
        {
          "output_type": "execute_result",
          "data": {
            "text/plain": [
              "(1115, 10)"
            ]
          },
          "metadata": {},
          "execution_count": 5
        }
      ],
      "source": [
        "store.head(5)\n",
        "store.shape"
      ]
    },
    {
      "cell_type": "code",
      "execution_count": null,
      "metadata": {
        "colab": {
          "base_uri": "https://localhost:8080/"
        },
        "id": "_62nbqRWs23p",
        "outputId": "16742443-ad31-440d-d044-7473de525fb3"
      },
      "outputs": [
        {
          "output_type": "stream",
          "name": "stdout",
          "text": [
            "<class 'pandas.core.frame.DataFrame'>\n",
            "RangeIndex: 1115 entries, 0 to 1114\n",
            "Data columns (total 10 columns):\n",
            " #   Column                     Non-Null Count  Dtype  \n",
            "---  ------                     --------------  -----  \n",
            " 0   Store                      1115 non-null   int64  \n",
            " 1   StoreType                  1115 non-null   object \n",
            " 2   Assortment                 1115 non-null   object \n",
            " 3   CompetitionDistance        1112 non-null   float64\n",
            " 4   CompetitionOpenSinceMonth  761 non-null    float64\n",
            " 5   CompetitionOpenSinceYear   761 non-null    float64\n",
            " 6   Promo2                     1115 non-null   int64  \n",
            " 7   Promo2SinceWeek            571 non-null    float64\n",
            " 8   Promo2SinceYear            571 non-null    float64\n",
            " 9   PromoInterval              571 non-null    object \n",
            "dtypes: float64(5), int64(2), object(3)\n",
            "memory usage: 87.2+ KB\n"
          ]
        }
      ],
      "source": [
        "store.info()"
      ]
    },
    {
      "cell_type": "code",
      "execution_count": null,
      "metadata": {
        "colab": {
          "base_uri": "https://localhost:8080/"
        },
        "id": "0eKFQKDNsv5m",
        "outputId": "45af6942-3e49-4fc5-8e92-0994d07be749"
      },
      "outputs": [
        {
          "output_type": "execute_result",
          "data": {
            "text/plain": [
              "1    571\n",
              "0    544\n",
              "Name: Promo2, dtype: int64"
            ]
          },
          "metadata": {},
          "execution_count": 7
        }
      ],
      "source": [
        "store['Promo2'].value_counts() # 544 stores didnt have promo2 thats why 544 values are missing in promo2sinceWeek/Year and Interval"
      ]
    },
    {
      "cell_type": "markdown",
      "metadata": {
        "id": "MzJi1utSqjyv"
      },
      "source": [
        "# Data Preparation / cleaning "
      ]
    },
    {
      "cell_type": "code",
      "execution_count": null,
      "metadata": {
        "colab": {
          "base_uri": "https://localhost:8080/",
          "height": 118
        },
        "id": "4PTUizgKtjUs",
        "outputId": "ed279095-e8a8-49d1-e179-0f306dd2f9ff"
      },
      "outputs": [
        {
          "output_type": "execute_result",
          "data": {
            "text/html": [
              "<div>\n",
              "<style scoped>\n",
              "    .dataframe tbody tr th:only-of-type {\n",
              "        vertical-align: middle;\n",
              "    }\n",
              "\n",
              "    .dataframe tbody tr th {\n",
              "        vertical-align: top;\n",
              "    }\n",
              "\n",
              "    .dataframe thead th {\n",
              "        text-align: right;\n",
              "    }\n",
              "</style>\n",
              "<table border=\"1\" class=\"dataframe\">\n",
              "  <thead>\n",
              "    <tr style=\"text-align: right;\">\n",
              "      <th></th>\n",
              "      <th>Store</th>\n",
              "      <th>DayOfWeek</th>\n",
              "      <th>Date</th>\n",
              "      <th>Sales</th>\n",
              "      <th>Customers</th>\n",
              "      <th>Open</th>\n",
              "      <th>Promo</th>\n",
              "      <th>StateHoliday</th>\n",
              "      <th>SchoolHoliday</th>\n",
              "      <th>StoreType</th>\n",
              "      <th>Assortment</th>\n",
              "      <th>CompetitionDistance</th>\n",
              "      <th>CompetitionOpenSinceMonth</th>\n",
              "      <th>CompetitionOpenSinceYear</th>\n",
              "      <th>Promo2</th>\n",
              "      <th>Promo2SinceWeek</th>\n",
              "      <th>Promo2SinceYear</th>\n",
              "      <th>PromoInterval</th>\n",
              "    </tr>\n",
              "  </thead>\n",
              "  <tbody>\n",
              "    <tr>\n",
              "      <th>0</th>\n",
              "      <td>1</td>\n",
              "      <td>5</td>\n",
              "      <td>2015-07-31</td>\n",
              "      <td>5263</td>\n",
              "      <td>555</td>\n",
              "      <td>1</td>\n",
              "      <td>1</td>\n",
              "      <td>0</td>\n",
              "      <td>1</td>\n",
              "      <td>c</td>\n",
              "      <td>a</td>\n",
              "      <td>1270.0</td>\n",
              "      <td>9.0</td>\n",
              "      <td>2008.0</td>\n",
              "      <td>0</td>\n",
              "      <td>NaN</td>\n",
              "      <td>NaN</td>\n",
              "      <td>NaN</td>\n",
              "    </tr>\n",
              "  </tbody>\n",
              "</table>\n",
              "</div>"
            ],
            "text/plain": [
              "   Store  DayOfWeek        Date  ...  Promo2SinceWeek  Promo2SinceYear  PromoInterval\n",
              "0      1          5  2015-07-31  ...              NaN              NaN            NaN\n",
              "\n",
              "[1 rows x 18 columns]"
            ]
          },
          "metadata": {},
          "execution_count": 8
        }
      ],
      "source": [
        "#Merging two datasets 'train' and 'store' in one dataset 'df' \n",
        "df= train.merge(store, how='inner', on='Store')\n",
        "df.head(1)\n"
      ]
    },
    {
      "cell_type": "code",
      "execution_count": null,
      "metadata": {
        "colab": {
          "base_uri": "https://localhost:8080/"
        },
        "id": "-CcqMPnEt2o7",
        "outputId": "89bfd474-ca41-44c9-bd62-fc5e3440407c"
      },
      "outputs": [
        {
          "output_type": "execute_result",
          "data": {
            "text/plain": [
              "SchoolHoliday    0\n",
              "StateHoliday     0\n",
              "Promo            0\n",
              "Open             0\n",
              "Customers        0\n",
              "Sales            0\n",
              "Date             0\n",
              "DayOfWeek        0\n",
              "Store            0\n",
              "dtype: int64"
            ]
          },
          "metadata": {},
          "execution_count": 9
        }
      ],
      "source": [
        "# checking number of 'NaN' values in each column is 'train' dataset\n",
        "train.isnull().sum().sort_values(ascending = False)"
      ]
    },
    {
      "cell_type": "code",
      "execution_count": null,
      "metadata": {
        "colab": {
          "base_uri": "https://localhost:8080/"
        },
        "id": "UfvX2bUjuJDx",
        "outputId": "15567caa-b8a1-424f-d1f2-ca1f3293be06"
      },
      "outputs": [
        {
          "output_type": "execute_result",
          "data": {
            "text/plain": [
              "PromoInterval                544\n",
              "Promo2SinceYear              544\n",
              "Promo2SinceWeek              544\n",
              "CompetitionOpenSinceYear     354\n",
              "CompetitionOpenSinceMonth    354\n",
              "CompetitionDistance            3\n",
              "Promo2                         0\n",
              "Assortment                     0\n",
              "StoreType                      0\n",
              "Store                          0\n",
              "dtype: int64"
            ]
          },
          "metadata": {},
          "execution_count": 10
        }
      ],
      "source": [
        "# checking number of 'NaN' values in each column is 'store' dataset\n",
        "store.isnull().sum().sort_values(ascending = False) "
      ]
    },
    {
      "cell_type": "markdown",
      "metadata": {
        "id": "CS1tVxKIuagN"
      },
      "source": [
        "CompetitionOpenSinceYear     354 ?\n",
        "CompetitionOpenSinceMonth    354 ?\n",
        "CompetitionDistance            3 ?"
      ]
    },
    {
      "cell_type": "code",
      "execution_count": null,
      "metadata": {
        "colab": {
          "base_uri": "https://localhost:8080/"
        },
        "id": "ieYAWtA7vApw",
        "outputId": "f95e9e47-ff30-4774-99be-56448d99beaa"
      },
      "outputs": [
        {
          "output_type": "execute_result",
          "data": {
            "text/plain": [
              "count    1014567.0\n",
              "mean        5430.0\n",
              "std         7715.0\n",
              "min           20.0\n",
              "25%          710.0\n",
              "50%         2330.0\n",
              "75%         6890.0\n",
              "max        75860.0\n",
              "Name: CompetitionDistance, dtype: float64"
            ]
          },
          "metadata": {},
          "execution_count": 11
        }
      ],
      "source": [
        "df['CompetitionDistance'].describe().round()"
      ]
    },
    {
      "cell_type": "code",
      "execution_count": null,
      "metadata": {
        "colab": {
          "base_uri": "https://localhost:8080/"
        },
        "id": "57nJi7lqzyvB",
        "outputId": "5356a4e6-5d82-4c75-a31a-996efb855568"
      },
      "outputs": [
        {
          "output_type": "execute_result",
          "data": {
            "text/plain": [
              "array([0, 'Jan,Apr,Jul,Oct', 'Feb,May,Aug,Nov', 'Mar,Jun,Sept,Dec'],\n",
              "      dtype=object)"
            ]
          },
          "metadata": {},
          "execution_count": 12
        }
      ],
      "source": [
        "# Fill the empty cells in PromoInterval column with 0\n",
        "df['PromoInterval'].fillna(0, inplace=True)\n",
        "df['PromoInterval'].unique()"
      ]
    },
    {
      "cell_type": "code",
      "execution_count": null,
      "metadata": {
        "colab": {
          "base_uri": "https://localhost:8080/",
          "height": 299
        },
        "id": "wlKOGFEC0Fa8",
        "outputId": "c187aec7-3ad2-4866-bd0f-bae29832cbc9"
      },
      "outputs": [
        {
          "output_type": "execute_result",
          "data": {
            "text/plain": [
              "<matplotlib.axes._subplots.AxesSubplot at 0x7f09999a7f10>"
            ]
          },
          "metadata": {},
          "execution_count": 13
        },
        {
          "output_type": "display_data",
          "data": {
            "image/png": "[encoded data removed]",
            "text/plain": [
              "<Figure size 432x288 with 1 Axes>"
            ]
          },
          "metadata": {
            "needs_background": "light"
          }
        }
      ],
      "source": [
        "sns.barplot(x= 'PromoInterval', y = 'Sales', data = df)"
      ]
    },
    {
      "cell_type": "code",
      "execution_count": null,
      "metadata": {
        "colab": {
          "base_uri": "https://localhost:8080/"
        },
        "id": "e_P1YS5xvC7M",
        "outputId": "f6a2e360-43df-4650-e867-b7584cb8ee36"
      },
      "outputs": [
        {
          "output_type": "stream",
          "name": "stdout",
          "text": [
            "<class 'pandas.core.frame.DataFrame'>\n",
            "Int64Index: 1017209 entries, 0 to 1017208\n",
            "Data columns (total 18 columns):\n",
            " #   Column                     Non-Null Count    Dtype  \n",
            "---  ------                     --------------    -----  \n",
            " 0   Store                      1017209 non-null  int64  \n",
            " 1   DayOfWeek                  1017209 non-null  int64  \n",
            " 2   Date                       1017209 non-null  object \n",
            " 3   Sales                      1017209 non-null  int64  \n",
            " 4   Customers                  1017209 non-null  int64  \n",
            " 5   Open                       1017209 non-null  int64  \n",
            " 6   Promo                      1017209 non-null  int64  \n",
            " 7   StateHoliday               1017209 non-null  object \n",
            " 8   SchoolHoliday              1017209 non-null  int64  \n",
            " 9   StoreType                  1017209 non-null  object \n",
            " 10  Assortment                 1017209 non-null  object \n",
            " 11  CompetitionDistance        1017209 non-null  float64\n",
            " 12  CompetitionOpenSinceMonth  693861 non-null   float64\n",
            " 13  CompetitionOpenSinceYear   693861 non-null   float64\n",
            " 14  Promo2                     1017209 non-null  int64  \n",
            " 15  Promo2SinceWeek            509178 non-null   float64\n",
            " 16  Promo2SinceYear            509178 non-null   float64\n",
            " 17  PromoInterval              1017209 non-null  object \n",
            "dtypes: float64(5), int64(8), object(5)\n",
            "memory usage: 147.5+ MB\n"
          ]
        }
      ],
      "source": [
        "# Fill the empty cells in CompetitionDistance column with the middle value of the values in CompetitionDistance\n",
        "df['CompetitionDistance'].fillna(df['CompetitionDistance'].median(), inplace = True)\n",
        "df.info()"
      ]
    },
    {
      "cell_type": "code",
      "execution_count": null,
      "metadata": {
        "colab": {
          "base_uri": "https://localhost:8080/"
        },
        "id": "suoefJj5uiVm",
        "outputId": "ee69db3e-43c1-46c0-b5a5-79e8bb8e09b1"
      },
      "outputs": [
        {
          "output_type": "execute_result",
          "data": {
            "text/plain": [
              "Store                          int64\n",
              "DayOfWeek                      int64\n",
              "Date                          object\n",
              "Sales                          int64\n",
              "Customers                      int64\n",
              "Open                           int64\n",
              "Promo                          int64\n",
              "StateHoliday                  object\n",
              "SchoolHoliday                  int64\n",
              "StoreType                     object\n",
              "Assortment                    object\n",
              "CompetitionDistance          float64\n",
              "CompetitionOpenSinceMonth    float64\n",
              "CompetitionOpenSinceYear     float64\n",
              "Promo2                         int64\n",
              "Promo2SinceWeek              float64\n",
              "Promo2SinceYear              float64\n",
              "PromoInterval                 object\n",
              "dtype: object"
            ]
          },
          "metadata": {},
          "execution_count": 15
        }
      ],
      "source": [
        "# checking types of data we have in each column\n",
        "df.dtypes"
      ]
    },
    {
      "cell_type": "markdown",
      "metadata": {
        "id": "DwTgRsLKuzsd"
      },
      "source": [
        "We have 'Date' column as object type, which we need to convert it in a 'Datatime data type' !!"
      ]
    },
    {
      "cell_type": "code",
      "execution_count": null,
      "metadata": {
        "colab": {
          "base_uri": "https://localhost:8080/",
          "height": 313
        },
        "id": "q7xBl_sCw_0P",
        "outputId": "9eccb169-9b88-4c30-f595-196feb19fe0b"
      },
      "outputs": [
        {
          "output_type": "execute_result",
          "data": {
            "text/html": [
              "<div>\n",
              "<style scoped>\n",
              "    .dataframe tbody tr th:only-of-type {\n",
              "        vertical-align: middle;\n",
              "    }\n",
              "\n",
              "    .dataframe tbody tr th {\n",
              "        vertical-align: top;\n",
              "    }\n",
              "\n",
              "    .dataframe thead th {\n",
              "        text-align: right;\n",
              "    }\n",
              "</style>\n",
              "<table border=\"1\" class=\"dataframe\">\n",
              "  <thead>\n",
              "    <tr style=\"text-align: right;\">\n",
              "      <th></th>\n",
              "      <th>Store</th>\n",
              "      <th>DayOfWeek</th>\n",
              "      <th>Date</th>\n",
              "      <th>Sales</th>\n",
              "      <th>Customers</th>\n",
              "      <th>Open</th>\n",
              "      <th>Promo</th>\n",
              "      <th>StateHoliday</th>\n",
              "      <th>SchoolHoliday</th>\n",
              "      <th>StoreType</th>\n",
              "      <th>Assortment</th>\n",
              "      <th>CompetitionDistance</th>\n",
              "      <th>CompetitionOpenSinceMonth</th>\n",
              "      <th>CompetitionOpenSinceYear</th>\n",
              "      <th>Promo2</th>\n",
              "      <th>Promo2SinceWeek</th>\n",
              "      <th>Promo2SinceYear</th>\n",
              "      <th>PromoInterval</th>\n",
              "    </tr>\n",
              "  </thead>\n",
              "  <tbody>\n",
              "    <tr>\n",
              "      <th>0</th>\n",
              "      <td>1</td>\n",
              "      <td>5</td>\n",
              "      <td>2015-07-31</td>\n",
              "      <td>5263</td>\n",
              "      <td>555</td>\n",
              "      <td>1</td>\n",
              "      <td>1</td>\n",
              "      <td>0</td>\n",
              "      <td>1</td>\n",
              "      <td>c</td>\n",
              "      <td>a</td>\n",
              "      <td>1270.0</td>\n",
              "      <td>9.0</td>\n",
              "      <td>2008.0</td>\n",
              "      <td>0</td>\n",
              "      <td>NaN</td>\n",
              "      <td>NaN</td>\n",
              "      <td>0</td>\n",
              "    </tr>\n",
              "    <tr>\n",
              "      <th>1</th>\n",
              "      <td>1</td>\n",
              "      <td>4</td>\n",
              "      <td>2015-07-30</td>\n",
              "      <td>5020</td>\n",
              "      <td>546</td>\n",
              "      <td>1</td>\n",
              "      <td>1</td>\n",
              "      <td>0</td>\n",
              "      <td>1</td>\n",
              "      <td>c</td>\n",
              "      <td>a</td>\n",
              "      <td>1270.0</td>\n",
              "      <td>9.0</td>\n",
              "      <td>2008.0</td>\n",
              "      <td>0</td>\n",
              "      <td>NaN</td>\n",
              "      <td>NaN</td>\n",
              "      <td>0</td>\n",
              "    </tr>\n",
              "    <tr>\n",
              "      <th>2</th>\n",
              "      <td>1</td>\n",
              "      <td>3</td>\n",
              "      <td>2015-07-29</td>\n",
              "      <td>4782</td>\n",
              "      <td>523</td>\n",
              "      <td>1</td>\n",
              "      <td>1</td>\n",
              "      <td>0</td>\n",
              "      <td>1</td>\n",
              "      <td>c</td>\n",
              "      <td>a</td>\n",
              "      <td>1270.0</td>\n",
              "      <td>9.0</td>\n",
              "      <td>2008.0</td>\n",
              "      <td>0</td>\n",
              "      <td>NaN</td>\n",
              "      <td>NaN</td>\n",
              "      <td>0</td>\n",
              "    </tr>\n",
              "    <tr>\n",
              "      <th>3</th>\n",
              "      <td>1</td>\n",
              "      <td>2</td>\n",
              "      <td>2015-07-28</td>\n",
              "      <td>5011</td>\n",
              "      <td>560</td>\n",
              "      <td>1</td>\n",
              "      <td>1</td>\n",
              "      <td>0</td>\n",
              "      <td>1</td>\n",
              "      <td>c</td>\n",
              "      <td>a</td>\n",
              "      <td>1270.0</td>\n",
              "      <td>9.0</td>\n",
              "      <td>2008.0</td>\n",
              "      <td>0</td>\n",
              "      <td>NaN</td>\n",
              "      <td>NaN</td>\n",
              "      <td>0</td>\n",
              "    </tr>\n",
              "    <tr>\n",
              "      <th>4</th>\n",
              "      <td>1</td>\n",
              "      <td>1</td>\n",
              "      <td>2015-07-27</td>\n",
              "      <td>6102</td>\n",
              "      <td>612</td>\n",
              "      <td>1</td>\n",
              "      <td>1</td>\n",
              "      <td>0</td>\n",
              "      <td>1</td>\n",
              "      <td>c</td>\n",
              "      <td>a</td>\n",
              "      <td>1270.0</td>\n",
              "      <td>9.0</td>\n",
              "      <td>2008.0</td>\n",
              "      <td>0</td>\n",
              "      <td>NaN</td>\n",
              "      <td>NaN</td>\n",
              "      <td>0</td>\n",
              "    </tr>\n",
              "  </tbody>\n",
              "</table>\n",
              "</div>"
            ],
            "text/plain": [
              "   Store  DayOfWeek        Date  ...  Promo2SinceWeek  Promo2SinceYear  PromoInterval\n",
              "0      1          5  2015-07-31  ...              NaN              NaN              0\n",
              "1      1          4  2015-07-30  ...              NaN              NaN              0\n",
              "2      1          3  2015-07-29  ...              NaN              NaN              0\n",
              "3      1          2  2015-07-28  ...              NaN              NaN              0\n",
              "4      1          1  2015-07-27  ...              NaN              NaN              0\n",
              "\n",
              "[5 rows x 18 columns]"
            ]
          },
          "metadata": {},
          "execution_count": 16
        }
      ],
      "source": [
        "df['PromoInterval'].unique()\n",
        "df.head()"
      ]
    },
    {
      "cell_type": "code",
      "execution_count": null,
      "metadata": {
        "colab": {
          "base_uri": "https://localhost:8080/"
        },
        "id": "dgPCMS2g3N-m",
        "outputId": "06951020-b166-48b7-80b5-bfdc990a2c21"
      },
      "outputs": [
        {
          "output_type": "stream",
          "name": "stdout",
          "text": [
            "<class 'pandas.core.frame.DataFrame'>\n",
            "Int64Index: 1017209 entries, 0 to 1017208\n",
            "Data columns (total 18 columns):\n",
            " #   Column                     Non-Null Count    Dtype  \n",
            "---  ------                     --------------    -----  \n",
            " 0   Store                      1017209 non-null  int64  \n",
            " 1   DayOfWeek                  1017209 non-null  int64  \n",
            " 2   Date                       1017209 non-null  object \n",
            " 3   Sales                      1017209 non-null  int64  \n",
            " 4   Customers                  1017209 non-null  int64  \n",
            " 5   Open                       1017209 non-null  int64  \n",
            " 6   Promo                      1017209 non-null  int64  \n",
            " 7   StateHoliday               1017209 non-null  object \n",
            " 8   SchoolHoliday              1017209 non-null  int64  \n",
            " 9   StoreType                  1017209 non-null  object \n",
            " 10  Assortment                 1017209 non-null  object \n",
            " 11  CompetitionDistance        1017209 non-null  float64\n",
            " 12  CompetitionOpenSinceMonth  693861 non-null   float64\n",
            " 13  CompetitionOpenSinceYear   693861 non-null   float64\n",
            " 14  Promo2                     1017209 non-null  int64  \n",
            " 15  Promo2SinceWeek            509178 non-null   float64\n",
            " 16  Promo2SinceYear            509178 non-null   float64\n",
            " 17  PromoInterval              1017209 non-null  object \n",
            "dtypes: float64(5), int64(8), object(5)\n",
            "memory usage: 147.5+ MB\n"
          ]
        }
      ],
      "source": [
        "\n",
        "df.info()"
      ]
    },
    {
      "cell_type": "markdown",
      "metadata": {
        "id": "53omP5z_vLTQ"
      },
      "source": [
        "make from date column into three columns: day, month, year"
      ]
    },
    {
      "cell_type": "code",
      "execution_count": null,
      "metadata": {
        "colab": {
          "base_uri": "https://localhost:8080/",
          "height": 591
        },
        "id": "VuRqXdjXvMby",
        "outputId": "8dddc040-deb6-459f-9652-fb43ac916986"
      },
      "outputs": [
        {
          "output_type": "stream",
          "name": "stderr",
          "text": [
            "/usr/local/lib/python3.7/dist-packages/ipykernel_launcher.py:7: FutureWarning: Series.dt.weekofyear and Series.dt.week have been deprecated.  Please use Series.dt.isocalendar().week instead.\n",
            "  import sys\n"
          ]
        },
        {
          "output_type": "execute_result",
          "data": {
            "text/html": [
              "<div>\n",
              "<style scoped>\n",
              "    .dataframe tbody tr th:only-of-type {\n",
              "        vertical-align: middle;\n",
              "    }\n",
              "\n",
              "    .dataframe tbody tr th {\n",
              "        vertical-align: top;\n",
              "    }\n",
              "\n",
              "    .dataframe thead th {\n",
              "        text-align: right;\n",
              "    }\n",
              "</style>\n",
              "<table border=\"1\" class=\"dataframe\">\n",
              "  <thead>\n",
              "    <tr style=\"text-align: right;\">\n",
              "      <th></th>\n",
              "      <th>Store</th>\n",
              "      <th>DayOfWeek</th>\n",
              "      <th>Date</th>\n",
              "      <th>Sales</th>\n",
              "      <th>Customers</th>\n",
              "      <th>Open</th>\n",
              "      <th>Promo</th>\n",
              "      <th>StateHoliday</th>\n",
              "      <th>SchoolHoliday</th>\n",
              "      <th>StoreType</th>\n",
              "      <th>Assortment</th>\n",
              "      <th>CompetitionDistance</th>\n",
              "      <th>CompetitionOpenSinceMonth</th>\n",
              "      <th>CompetitionOpenSinceYear</th>\n",
              "      <th>Promo2</th>\n",
              "      <th>Promo2SinceWeek</th>\n",
              "      <th>Promo2SinceYear</th>\n",
              "      <th>PromoInterval</th>\n",
              "      <th>Day</th>\n",
              "      <th>Month</th>\n",
              "      <th>Year</th>\n",
              "      <th>Week</th>\n",
              "    </tr>\n",
              "  </thead>\n",
              "  <tbody>\n",
              "    <tr>\n",
              "      <th>0</th>\n",
              "      <td>1</td>\n",
              "      <td>5</td>\n",
              "      <td>2015-07-31</td>\n",
              "      <td>5263</td>\n",
              "      <td>555</td>\n",
              "      <td>1</td>\n",
              "      <td>1</td>\n",
              "      <td>0</td>\n",
              "      <td>1</td>\n",
              "      <td>c</td>\n",
              "      <td>a</td>\n",
              "      <td>1270.0</td>\n",
              "      <td>9.0</td>\n",
              "      <td>2008.0</td>\n",
              "      <td>0</td>\n",
              "      <td>NaN</td>\n",
              "      <td>NaN</td>\n",
              "      <td>0</td>\n",
              "      <td>31</td>\n",
              "      <td>7</td>\n",
              "      <td>2015</td>\n",
              "      <td>31</td>\n",
              "    </tr>\n",
              "    <tr>\n",
              "      <th>1</th>\n",
              "      <td>1</td>\n",
              "      <td>4</td>\n",
              "      <td>2015-07-30</td>\n",
              "      <td>5020</td>\n",
              "      <td>546</td>\n",
              "      <td>1</td>\n",
              "      <td>1</td>\n",
              "      <td>0</td>\n",
              "      <td>1</td>\n",
              "      <td>c</td>\n",
              "      <td>a</td>\n",
              "      <td>1270.0</td>\n",
              "      <td>9.0</td>\n",
              "      <td>2008.0</td>\n",
              "      <td>0</td>\n",
              "      <td>NaN</td>\n",
              "      <td>NaN</td>\n",
              "      <td>0</td>\n",
              "      <td>30</td>\n",
              "      <td>7</td>\n",
              "      <td>2015</td>\n",
              "      <td>31</td>\n",
              "    </tr>\n",
              "    <tr>\n",
              "      <th>2</th>\n",
              "      <td>1</td>\n",
              "      <td>3</td>\n",
              "      <td>2015-07-29</td>\n",
              "      <td>4782</td>\n",
              "      <td>523</td>\n",
              "      <td>1</td>\n",
              "      <td>1</td>\n",
              "      <td>0</td>\n",
              "      <td>1</td>\n",
              "      <td>c</td>\n",
              "      <td>a</td>\n",
              "      <td>1270.0</td>\n",
              "      <td>9.0</td>\n",
              "      <td>2008.0</td>\n",
              "      <td>0</td>\n",
              "      <td>NaN</td>\n",
              "      <td>NaN</td>\n",
              "      <td>0</td>\n",
              "      <td>29</td>\n",
              "      <td>7</td>\n",
              "      <td>2015</td>\n",
              "      <td>31</td>\n",
              "    </tr>\n",
              "    <tr>\n",
              "      <th>3</th>\n",
              "      <td>1</td>\n",
              "      <td>2</td>\n",
              "      <td>2015-07-28</td>\n",
              "      <td>5011</td>\n",
              "      <td>560</td>\n",
              "      <td>1</td>\n",
              "      <td>1</td>\n",
              "      <td>0</td>\n",
              "      <td>1</td>\n",
              "      <td>c</td>\n",
              "      <td>a</td>\n",
              "      <td>1270.0</td>\n",
              "      <td>9.0</td>\n",
              "      <td>2008.0</td>\n",
              "      <td>0</td>\n",
              "      <td>NaN</td>\n",
              "      <td>NaN</td>\n",
              "      <td>0</td>\n",
              "      <td>28</td>\n",
              "      <td>7</td>\n",
              "      <td>2015</td>\n",
              "      <td>31</td>\n",
              "    </tr>\n",
              "    <tr>\n",
              "      <th>4</th>\n",
              "      <td>1</td>\n",
              "      <td>1</td>\n",
              "      <td>2015-07-27</td>\n",
              "      <td>6102</td>\n",
              "      <td>612</td>\n",
              "      <td>1</td>\n",
              "      <td>1</td>\n",
              "      <td>0</td>\n",
              "      <td>1</td>\n",
              "      <td>c</td>\n",
              "      <td>a</td>\n",
              "      <td>1270.0</td>\n",
              "      <td>9.0</td>\n",
              "      <td>2008.0</td>\n",
              "      <td>0</td>\n",
              "      <td>NaN</td>\n",
              "      <td>NaN</td>\n",
              "      <td>0</td>\n",
              "      <td>27</td>\n",
              "      <td>7</td>\n",
              "      <td>2015</td>\n",
              "      <td>31</td>\n",
              "    </tr>\n",
              "    <tr>\n",
              "      <th>5</th>\n",
              "      <td>1</td>\n",
              "      <td>7</td>\n",
              "      <td>2015-07-26</td>\n",
              "      <td>0</td>\n",
              "      <td>0</td>\n",
              "      <td>0</td>\n",
              "      <td>0</td>\n",
              "      <td>0</td>\n",
              "      <td>0</td>\n",
              "      <td>c</td>\n",
              "      <td>a</td>\n",
              "      <td>1270.0</td>\n",
              "      <td>9.0</td>\n",
              "      <td>2008.0</td>\n",
              "      <td>0</td>\n",
              "      <td>NaN</td>\n",
              "      <td>NaN</td>\n",
              "      <td>0</td>\n",
              "      <td>26</td>\n",
              "      <td>7</td>\n",
              "      <td>2015</td>\n",
              "      <td>30</td>\n",
              "    </tr>\n",
              "    <tr>\n",
              "      <th>6</th>\n",
              "      <td>1</td>\n",
              "      <td>6</td>\n",
              "      <td>2015-07-25</td>\n",
              "      <td>4364</td>\n",
              "      <td>500</td>\n",
              "      <td>1</td>\n",
              "      <td>0</td>\n",
              "      <td>0</td>\n",
              "      <td>0</td>\n",
              "      <td>c</td>\n",
              "      <td>a</td>\n",
              "      <td>1270.0</td>\n",
              "      <td>9.0</td>\n",
              "      <td>2008.0</td>\n",
              "      <td>0</td>\n",
              "      <td>NaN</td>\n",
              "      <td>NaN</td>\n",
              "      <td>0</td>\n",
              "      <td>25</td>\n",
              "      <td>7</td>\n",
              "      <td>2015</td>\n",
              "      <td>30</td>\n",
              "    </tr>\n",
              "    <tr>\n",
              "      <th>7</th>\n",
              "      <td>1</td>\n",
              "      <td>5</td>\n",
              "      <td>2015-07-24</td>\n",
              "      <td>3706</td>\n",
              "      <td>459</td>\n",
              "      <td>1</td>\n",
              "      <td>0</td>\n",
              "      <td>0</td>\n",
              "      <td>0</td>\n",
              "      <td>c</td>\n",
              "      <td>a</td>\n",
              "      <td>1270.0</td>\n",
              "      <td>9.0</td>\n",
              "      <td>2008.0</td>\n",
              "      <td>0</td>\n",
              "      <td>NaN</td>\n",
              "      <td>NaN</td>\n",
              "      <td>0</td>\n",
              "      <td>24</td>\n",
              "      <td>7</td>\n",
              "      <td>2015</td>\n",
              "      <td>30</td>\n",
              "    </tr>\n",
              "    <tr>\n",
              "      <th>8</th>\n",
              "      <td>1</td>\n",
              "      <td>4</td>\n",
              "      <td>2015-07-23</td>\n",
              "      <td>3769</td>\n",
              "      <td>503</td>\n",
              "      <td>1</td>\n",
              "      <td>0</td>\n",
              "      <td>0</td>\n",
              "      <td>0</td>\n",
              "      <td>c</td>\n",
              "      <td>a</td>\n",
              "      <td>1270.0</td>\n",
              "      <td>9.0</td>\n",
              "      <td>2008.0</td>\n",
              "      <td>0</td>\n",
              "      <td>NaN</td>\n",
              "      <td>NaN</td>\n",
              "      <td>0</td>\n",
              "      <td>23</td>\n",
              "      <td>7</td>\n",
              "      <td>2015</td>\n",
              "      <td>30</td>\n",
              "    </tr>\n",
              "    <tr>\n",
              "      <th>9</th>\n",
              "      <td>1</td>\n",
              "      <td>3</td>\n",
              "      <td>2015-07-22</td>\n",
              "      <td>3464</td>\n",
              "      <td>463</td>\n",
              "      <td>1</td>\n",
              "      <td>0</td>\n",
              "      <td>0</td>\n",
              "      <td>0</td>\n",
              "      <td>c</td>\n",
              "      <td>a</td>\n",
              "      <td>1270.0</td>\n",
              "      <td>9.0</td>\n",
              "      <td>2008.0</td>\n",
              "      <td>0</td>\n",
              "      <td>NaN</td>\n",
              "      <td>NaN</td>\n",
              "      <td>0</td>\n",
              "      <td>22</td>\n",
              "      <td>7</td>\n",
              "      <td>2015</td>\n",
              "      <td>30</td>\n",
              "    </tr>\n",
              "  </tbody>\n",
              "</table>\n",
              "</div>"
            ],
            "text/plain": [
              "   Store  DayOfWeek       Date  Sales  ...  Day  Month  Year Week\n",
              "0      1          5 2015-07-31   5263  ...   31      7  2015   31\n",
              "1      1          4 2015-07-30   5020  ...   30      7  2015   31\n",
              "2      1          3 2015-07-29   4782  ...   29      7  2015   31\n",
              "3      1          2 2015-07-28   5011  ...   28      7  2015   31\n",
              "4      1          1 2015-07-27   6102  ...   27      7  2015   31\n",
              "5      1          7 2015-07-26      0  ...   26      7  2015   30\n",
              "6      1          6 2015-07-25   4364  ...   25      7  2015   30\n",
              "7      1          5 2015-07-24   3706  ...   24      7  2015   30\n",
              "8      1          4 2015-07-23   3769  ...   23      7  2015   30\n",
              "9      1          3 2015-07-22   3464  ...   22      7  2015   30\n",
              "\n",
              "[10 rows x 22 columns]"
            ]
          },
          "metadata": {},
          "execution_count": 18
        }
      ],
      "source": [
        "df['Date']= pd.to_datetime(df['Date'])\n",
        "df.dtypes\n",
        "# Create new columns\n",
        "df['Day'] = df['Date'].dt.day\n",
        "df['Month'] = df['Date'].dt.month\n",
        "df['Year'] = df['Date'].dt.year\n",
        "df['Week'] = df['Date'].dt.week\n",
        "\n",
        "df.head(10)\n",
        "\n"
      ]
    },
    {
      "cell_type": "code",
      "execution_count": null,
      "metadata": {
        "colab": {
          "base_uri": "https://localhost:8080/"
        },
        "id": "GBDO5wkk8_Sn",
        "outputId": "9510dad2-ada6-4d0b-c995-ca991f8e7518"
      },
      "outputs": [
        {
          "output_type": "execute_result",
          "data": {
            "text/plain": [
              "Store                                 int64\n",
              "DayOfWeek                             int64\n",
              "Date                         datetime64[ns]\n",
              "Sales                                 int64\n",
              "Customers                             int64\n",
              "Open                                  int64\n",
              "Promo                                 int64\n",
              "StateHoliday                         object\n",
              "SchoolHoliday                         int64\n",
              "StoreType                            object\n",
              "Assortment                           object\n",
              "CompetitionDistance                 float64\n",
              "CompetitionOpenSinceMonth           float64\n",
              "CompetitionOpenSinceYear            float64\n",
              "Promo2                                int64\n",
              "Promo2SinceWeek                     float64\n",
              "Promo2SinceYear                     float64\n",
              "PromoInterval                        object\n",
              "Day                                   int64\n",
              "Month                                 int64\n",
              "Year                                  int64\n",
              "Week                                  int64\n",
              "dtype: object"
            ]
          },
          "metadata": {},
          "execution_count": 19
        }
      ],
      "source": [
        "df.dtypes"
      ]
    },
    {
      "cell_type": "markdown",
      "metadata": {
        "id": "6dEiP_uWtf8S"
      },
      "source": [
        "# Data Exploration and Visualisation "
      ]
    },
    {
      "cell_type": "markdown",
      "metadata": {
        "id": "I8S4N8U6wmMl"
      },
      "source": [
        "Which month the sales were high?"
      ]
    },
    {
      "cell_type": "code",
      "execution_count": null,
      "metadata": {
        "colab": {
          "base_uri": "https://localhost:8080/",
          "height": 383
        },
        "id": "yJmhplhTsBut",
        "outputId": "65d82e3e-88f5-4d15-9824-08a9f65312f6"
      },
      "outputs": [
        {
          "output_type": "execute_result",
          "data": {
            "text/plain": [
              "Text(0.5, 1.0, 'Average sales per month')"
            ]
          },
          "metadata": {},
          "execution_count": 20
        },
        {
          "output_type": "display_data",
          "data": {
            "image/png": "[encoded data removed]",
            "text/plain": [
              "<Figure size 1080x360 with 1 Axes>"
            ]
          },
          "metadata": {
            "needs_background": "light"
          }
        }
      ],
      "source": [
        "best_month_sales = df.groupby(['Month'])[['Sales']].mean().round(2)\n",
        "best_month_sales.plot.bar(figsize=(15 , 5), color = 'c', legend = 0)\n",
        "plt.xlabel('Month' , size= 20)\n",
        "plt.ylabel('Sales' , size= 20)\n",
        "plt.grid()\n",
        "plt.title('Average sales per month', size= 20)\n"
      ]
    },
    {
      "cell_type": "code",
      "execution_count": null,
      "metadata": {
        "colab": {
          "base_uri": "https://localhost:8080/",
          "height": 175
        },
        "id": "FCmDSUlwaW67",
        "outputId": "8e9e12b4-cd84-41fd-8f70-b50c39acf1ab"
      },
      "outputs": [
        {
          "output_type": "execute_result",
          "data": {
            "text/html": [
              "<div>\n",
              "<style scoped>\n",
              "    .dataframe tbody tr th:only-of-type {\n",
              "        vertical-align: middle;\n",
              "    }\n",
              "\n",
              "    .dataframe tbody tr th {\n",
              "        vertical-align: top;\n",
              "    }\n",
              "\n",
              "    .dataframe thead th {\n",
              "        text-align: right;\n",
              "    }\n",
              "</style>\n",
              "<table border=\"1\" class=\"dataframe\">\n",
              "  <thead>\n",
              "    <tr style=\"text-align: right;\">\n",
              "      <th></th>\n",
              "      <th>StoreType</th>\n",
              "      <th>Sales</th>\n",
              "    </tr>\n",
              "  </thead>\n",
              "  <tbody>\n",
              "    <tr>\n",
              "      <th>0</th>\n",
              "      <td>a</td>\n",
              "      <td>5738.18</td>\n",
              "    </tr>\n",
              "    <tr>\n",
              "      <th>1</th>\n",
              "      <td>b</td>\n",
              "      <td>10058.84</td>\n",
              "    </tr>\n",
              "    <tr>\n",
              "      <th>2</th>\n",
              "      <td>c</td>\n",
              "      <td>5723.63</td>\n",
              "    </tr>\n",
              "    <tr>\n",
              "      <th>3</th>\n",
              "      <td>d</td>\n",
              "      <td>5641.82</td>\n",
              "    </tr>\n",
              "  </tbody>\n",
              "</table>\n",
              "</div>"
            ],
            "text/plain": [
              "  StoreType     Sales\n",
              "0         a   5738.18\n",
              "1         b  10058.84\n",
              "2         c   5723.63\n",
              "3         d   5641.82"
            ]
          },
          "metadata": {},
          "execution_count": 21
        }
      ],
      "source": [
        "# Analysis: Which store type has the highest sales on average \n",
        "highest_sales_on_average_depending_on_the_store_type = df.groupby('StoreType')[['Sales']].mean().reset_index().round(2)\n",
        "# highest_sales_on_average_depending_on_the_store_type = df.groupby('StoreType')[['Sales']].mean()\n",
        "highest_sales_on_average_depending_on_the_store_type\n",
        "\n",
        "# highest_sales_on_average_depending_on_the_store_type.reset_index()\n",
        "# sns.barplot(x=\"DayOfWeek\", y=\"Sales\", data=df)\n",
        "# sns.barplot(x='StoreType' , y= 'Sales', data = highest_sales_on_average_depending_on_the_store_type)\n",
        "# highest_sales_on_average_depending_on_the_store_type.plot.bar(figsize=(15 , 5),legend = 0)\n",
        "# plt.xlabel('StoreType' , size= 20)\n",
        "# plt.ylabel('Sales' , size= 20)\n",
        "# plt.grid()\n",
        "# plt.title('The highest sales on average depending on the type store', size= 20)"
      ]
    },
    {
      "cell_type": "code",
      "execution_count": null,
      "metadata": {
        "colab": {
          "base_uri": "https://localhost:8080/",
          "height": 354
        },
        "id": "ECdF09i-XZkK",
        "outputId": "9136bbba-5447-4fa7-9891-e293981b4f71"
      },
      "outputs": [
        {
          "output_type": "execute_result",
          "data": {
            "text/plain": [
              "<matplotlib.axes._subplots.AxesSubplot at 0x7f09993594d0>"
            ]
          },
          "metadata": {},
          "execution_count": 22
        },
        {
          "output_type": "display_data",
          "data": {
            "image/png": "[encoded data removed]",
            "text/plain": [
              "<Figure size 360x360 with 1 Axes>"
            ]
          },
          "metadata": {
            "needs_background": "light"
          }
        }
      ],
      "source": [
        "fig, ax = plt.subplots(figsize=(5,5))\n",
        "# sns.barplot(x=\"DayOfWeek\", y=\"Sales\", data=df)\n",
        "\n",
        "sns.barplot(\n",
        "    data=highest_sales_on_average_depending_on_the_store_type,\n",
        "    x=\"StoreType\", y=\"Sales\"\n",
        ")"
      ]
    },
    {
      "cell_type": "code",
      "execution_count": null,
      "metadata": {
        "id": "ip2S2ML5o_ur"
      },
      "outputs": [],
      "source": [
        "#Assortment\n",
        "#StoreAssortments = df['Assortment'].value_counts().sort_values(ascending=False)\n",
        "#pie_=StoreAssortments.plot.pie(autopct=\"%.1f%%\",startangle=90, figsize=(30,30)\n",
        "#pie_.set_title('Percentage of Stores by Assortment')"
      ]
    },
    {
      "cell_type": "code",
      "execution_count": null,
      "metadata": {
        "colab": {
          "base_uri": "https://localhost:8080/",
          "height": 377
        },
        "id": "FALOYWacac2D",
        "outputId": "b980d6f2-447a-475f-db98-b43327b9576f"
      },
      "outputs": [
        {
          "output_type": "execute_result",
          "data": {
            "text/plain": [
              "Text(0.5, 1.0, 'The highest sales on average depending on the Assortment type of the store')"
            ]
          },
          "metadata": {},
          "execution_count": 24
        },
        {
          "output_type": "display_data",
          "data": {
            "image/png": "[encoded data removed]",
            "text/plain": [
              "<Figure size 1080x360 with 1 Axes>"
            ]
          },
          "metadata": {
            "needs_background": "light"
          }
        }
      ],
      "source": [
        "# Analysis: Assortment and sales\n",
        "highest_sales_on_average_depending_on_the_Assortment_type = df.groupby('Assortment')['Sales'].mean().reset_index().round(1)\n",
        "highest_sales_on_average_depending_on_the_Assortment_type.plot.bar(figsize=(15 , 5), legend = 0)\n",
        "plt.xlabel('Assortment type' , size= 20)\n",
        "plt.ylabel('Sales' , size= 20)\n",
        "plt.grid()\n",
        "plt.title('The highest sales on average depending on the Assortment type of the store', size= 20)"
      ]
    },
    {
      "cell_type": "code",
      "execution_count": null,
      "metadata": {
        "colab": {
          "base_uri": "https://localhost:8080/",
          "height": 230
        },
        "id": "AwIjz-g9bASI",
        "outputId": "08e9a1d2-1849-4398-a4c0-b1dfe9f067b9"
      },
      "outputs": [
        {
          "output_type": "stream",
          "name": "stderr",
          "text": [
            "/usr/local/lib/python3.7/dist-packages/ipykernel_launcher.py:2: FutureWarning: Indexing with multiple keys (implicitly converted to a tuple of keys) will be deprecated, use a list instead.\n",
            "  \n"
          ]
        },
        {
          "output_type": "execute_result",
          "data": {
            "text/html": [
              "<div>\n",
              "<style scoped>\n",
              "    .dataframe tbody tr th:only-of-type {\n",
              "        vertical-align: middle;\n",
              "    }\n",
              "\n",
              "    .dataframe tbody tr th {\n",
              "        vertical-align: top;\n",
              "    }\n",
              "\n",
              "    .dataframe thead th {\n",
              "        text-align: right;\n",
              "    }\n",
              "</style>\n",
              "<table border=\"1\" class=\"dataframe\">\n",
              "  <thead>\n",
              "    <tr style=\"text-align: right;\">\n",
              "      <th></th>\n",
              "      <th>StoreType</th>\n",
              "      <th>Sales</th>\n",
              "      <th>Customers</th>\n",
              "      <th>Avg_Sales_Customers_Store</th>\n",
              "    </tr>\n",
              "  </thead>\n",
              "  <tbody>\n",
              "    <tr>\n",
              "      <th>0</th>\n",
              "      <td>a</td>\n",
              "      <td>5738.0</td>\n",
              "      <td>659.0</td>\n",
              "      <td>8.71</td>\n",
              "    </tr>\n",
              "    <tr>\n",
              "      <th>1</th>\n",
              "      <td>b</td>\n",
              "      <td>10059.0</td>\n",
              "      <td>1988.0</td>\n",
              "      <td>5.06</td>\n",
              "    </tr>\n",
              "    <tr>\n",
              "      <th>2</th>\n",
              "      <td>c</td>\n",
              "      <td>5724.0</td>\n",
              "      <td>673.0</td>\n",
              "      <td>8.51</td>\n",
              "    </tr>\n",
              "    <tr>\n",
              "      <th>3</th>\n",
              "      <td>d</td>\n",
              "      <td>5642.0</td>\n",
              "      <td>501.0</td>\n",
              "      <td>11.26</td>\n",
              "    </tr>\n",
              "  </tbody>\n",
              "</table>\n",
              "</div>"
            ],
            "text/plain": [
              "  StoreType    Sales  Customers  Avg_Sales_Customers_Store\n",
              "0         a   5738.0      659.0                       8.71\n",
              "1         b  10059.0     1988.0                       5.06\n",
              "2         c   5724.0      673.0                       8.51\n",
              "3         d   5642.0      501.0                      11.26"
            ]
          },
          "metadata": {},
          "execution_count": 25
        }
      ],
      "source": [
        "# Analysis: Average sales per customer in each store type\n",
        "avarag_sales_avarage_customer_for_store_type = df.groupby('StoreType')['Sales','Customers'].mean().reset_index().round()\n",
        "avarag_sales_avarage_customer_for_store_type\n",
        "avarag_sales_avarage_customer_for_store_type['Avg_Sales_Customers_Store'] = ((avarag_sales_avarage_customer_for_store_type['Sales']/avarag_sales_avarage_customer_for_store_type['Customers']).round(2))\n",
        "avarag_sales_avarage_customer_for_store_type.sort_values('Avg_Sales_Customers_Store' , ascending= False).sort_values('Sales', ascending = False)\n",
        "avarag_sales_avarage_customer_for_store_type"
      ]
    },
    {
      "cell_type": "code",
      "execution_count": null,
      "metadata": {
        "colab": {
          "base_uri": "https://localhost:8080/",
          "height": 609
        },
        "id": "JXmtYZRyjXbH",
        "outputId": "9099e320-7be6-478b-917e-15557e2e1679"
      },
      "outputs": [
        {
          "output_type": "execute_result",
          "data": {
            "text/plain": [
              "Text(0.5, 1.0, 'Number of each Rossman Store Type')"
            ]
          },
          "metadata": {},
          "execution_count": 26
        },
        {
          "output_type": "display_data",
          "data": {
            "image/png": "[encoded data removed]",
            "text/plain": [
              "<Figure size 720x720 with 1 Axes>"
            ]
          },
          "metadata": {}
        }
      ],
      "source": [
        "# Storetypes numbers\n",
        "rossmanStoreType = df['StoreType'].value_counts().sort_values(ascending=False)\n",
        "#rossmanStoreType.plot.bar()\n",
        "pie= rossmanStoreType.plot.pie(autopct=\"%.1f%%\",startangle=90, figsize=(10,10))\n",
        "pie.set_title('Number of each Rossman Store Type')"
      ]
    },
    {
      "cell_type": "code",
      "execution_count": null,
      "metadata": {
        "colab": {
          "base_uri": "https://localhost:8080/"
        },
        "id": "BCef4WV4cnFT",
        "outputId": "0d232a9b-c3b6-40d5-a790-49848ccfc6f1"
      },
      "outputs": [
        {
          "output_type": "execute_result",
          "data": {
            "text/plain": [
              "array([2015, 2014, 2013])"
            ]
          },
          "metadata": {},
          "execution_count": 27
        }
      ],
      "source": [
        "# Code: Find the boundary of dates, i.e. the span across which we have the data.\n",
        "\n",
        "\n",
        "df['Year'].unique()"
      ]
    },
    {
      "cell_type": "code",
      "execution_count": null,
      "metadata": {
        "colab": {
          "base_uri": "https://localhost:8080/"
        },
        "id": "9QoFCNTucMIt",
        "outputId": "810612ca-8185-4f4b-d411-1fe6d41b6c03"
      },
      "outputs": [
        {
          "output_type": "execute_result",
          "data": {
            "text/plain": [
              "array([  85,  122,  209,  259,  262,  274,  299,  310,  335,  353,  423,\n",
              "        433,  453,  494,  512,  524,  530,  562,  578,  676,  682,  732,\n",
              "        733,  769,  863,  867,  877,  931,  948, 1045, 1081, 1097, 1099])"
            ]
          },
          "metadata": {},
          "execution_count": 28
        }
      ],
      "source": [
        "# Code: Is any store open on Sunday?\n",
        "\n",
        "\n",
        "df.loc[(df['DayOfWeek']==7 ) & (df['Open'] == 1),'Store'].unique()"
      ]
    },
    {
      "cell_type": "code",
      "execution_count": null,
      "metadata": {
        "colab": {
          "base_uri": "https://localhost:8080/",
          "height": 626
        },
        "id": "KsEq9wrjtRjr",
        "outputId": "c6afb4a3-661b-4cef-b6c0-4f2359e4e5ec"
      },
      "outputs": [
        {
          "output_type": "execute_result",
          "data": {
            "text/plain": [
              "<matplotlib.axes._subplots.AxesSubplot at 0x7f0997fb0410>"
            ]
          },
          "metadata": {},
          "execution_count": 29
        },
        {
          "output_type": "display_data",
          "data": {
            "image/png": "[encoded data removed]",
            "text/plain": [
              "<Figure size 1080x720 with 1 Axes>"
            ]
          },
          "metadata": {
            "needs_background": "light"
          }
        }
      ],
      "source": [
        "# Weekdays and weekenddays vs Sales\n",
        "fig, ax = plt.subplots(figsize=(15,10))\n",
        "sns.barplot(x=\"DayOfWeek\", y=\"Sales\", data=df)"
      ]
    },
    {
      "cell_type": "code",
      "execution_count": null,
      "metadata": {
        "colab": {
          "base_uri": "https://localhost:8080/",
          "height": 143
        },
        "id": "QxZwnU1Rh6w-",
        "outputId": "e6716c94-6870-4343-a27b-487ac51b50c6"
      },
      "outputs": [
        {
          "output_type": "execute_result",
          "data": {
            "text/html": [
              "<div>\n",
              "<style scoped>\n",
              "    .dataframe tbody tr th:only-of-type {\n",
              "        vertical-align: middle;\n",
              "    }\n",
              "\n",
              "    .dataframe tbody tr th {\n",
              "        vertical-align: top;\n",
              "    }\n",
              "\n",
              "    .dataframe thead th {\n",
              "        text-align: right;\n",
              "    }\n",
              "</style>\n",
              "<table border=\"1\" class=\"dataframe\">\n",
              "  <thead>\n",
              "    <tr style=\"text-align: right;\">\n",
              "      <th></th>\n",
              "      <th>Sales</th>\n",
              "    </tr>\n",
              "    <tr>\n",
              "      <th>Promo</th>\n",
              "      <th></th>\n",
              "    </tr>\n",
              "  </thead>\n",
              "  <tbody>\n",
              "    <tr>\n",
              "      <th>1</th>\n",
              "      <td>7991.15</td>\n",
              "    </tr>\n",
              "    <tr>\n",
              "      <th>0</th>\n",
              "      <td>4406.05</td>\n",
              "    </tr>\n",
              "  </tbody>\n",
              "</table>\n",
              "</div>"
            ],
            "text/plain": [
              "         Sales\n",
              "Promo         \n",
              "1      7991.15\n",
              "0      4406.05"
            ]
          },
          "metadata": {},
          "execution_count": 30
        }
      ],
      "source": [
        "# Graph: sales vs promo > sales in 1 vs 0\n",
        "df.groupby(['Promo'])[['Sales']].mean().round(2).sort_values('Sales', ascending = False)"
      ]
    },
    {
      "cell_type": "code",
      "execution_count": null,
      "metadata": {
        "colab": {
          "base_uri": "https://localhost:8080/",
          "height": 609
        },
        "id": "ZM7ailU3pxRP",
        "outputId": "54f1a88a-8a5d-4dbc-d598-8733ebdac9b5"
      },
      "outputs": [
        {
          "output_type": "execute_result",
          "data": {
            "text/plain": [
              "Text(0.5, 1.0, 'Percentage of Stores, participated in Promo2')"
            ]
          },
          "metadata": {},
          "execution_count": 31
        },
        {
          "output_type": "display_data",
          "data": {
            "image/png": "[encoded data removed]",
            "text/plain": [
              "<Figure size 720x720 with 1 Axes>"
            ]
          },
          "metadata": {}
        }
      ],
      "source": [
        "# How many store participated in Promo2?\n",
        "Promo2_ = df['Promo2'].value_counts().sort_values(ascending=False)\n",
        "piee= Promo2_.plot.pie(autopct=\"%.1f%%\",startangle=90, figsize=(10,10))\n",
        "piee.set_title('Percentage of Stores, participated in Promo2')"
      ]
    },
    {
      "cell_type": "code",
      "execution_count": null,
      "metadata": {
        "colab": {
          "base_uri": "https://localhost:8080/",
          "height": 143
        },
        "id": "Imf3btpDjD1B",
        "outputId": "270ea7ef-60a4-49cd-dc42-5beee62d8ba8"
      },
      "outputs": [
        {
          "output_type": "execute_result",
          "data": {
            "text/html": [
              "<div>\n",
              "<style scoped>\n",
              "    .dataframe tbody tr th:only-of-type {\n",
              "        vertical-align: middle;\n",
              "    }\n",
              "\n",
              "    .dataframe tbody tr th {\n",
              "        vertical-align: top;\n",
              "    }\n",
              "\n",
              "    .dataframe thead th {\n",
              "        text-align: right;\n",
              "    }\n",
              "</style>\n",
              "<table border=\"1\" class=\"dataframe\">\n",
              "  <thead>\n",
              "    <tr style=\"text-align: right;\">\n",
              "      <th></th>\n",
              "      <th>Sales</th>\n",
              "    </tr>\n",
              "    <tr>\n",
              "      <th>SchoolHoliday</th>\n",
              "      <th></th>\n",
              "    </tr>\n",
              "  </thead>\n",
              "  <tbody>\n",
              "    <tr>\n",
              "      <th>0</th>\n",
              "      <td>5620.98</td>\n",
              "    </tr>\n",
              "    <tr>\n",
              "      <th>1</th>\n",
              "      <td>6476.52</td>\n",
              "    </tr>\n",
              "  </tbody>\n",
              "</table>\n",
              "</div>"
            ],
            "text/plain": [
              "                 Sales\n",
              "SchoolHoliday         \n",
              "0              5620.98\n",
              "1              6476.52"
            ]
          },
          "metadata": {},
          "execution_count": 32
        }
      ],
      "source": [
        "# sales vs holidays (school and state) \n",
        "df.groupby(['SchoolHoliday'])[['Sales']].mean().round(2)"
      ]
    },
    {
      "cell_type": "code",
      "execution_count": null,
      "metadata": {
        "colab": {
          "base_uri": "https://localhost:8080/"
        },
        "id": "Fbt3BYR24Ij-",
        "outputId": "6878f322-4542-4256-82e3-8a08db9a375e"
      },
      "outputs": [
        {
          "output_type": "execute_result",
          "data": {
            "text/plain": [
              "array(['Normal day', 'Public Holiday', 'Easter holiday', 'Christmas'],\n",
              "      dtype=object)"
            ]
          },
          "metadata": {},
          "execution_count": 33
        }
      ],
      "source": [
        "# Holidays and number of customers. Do more people come during the holidays?\n",
        "\n",
        "# StateHoliday vs Sales\n",
        "# First combine  the 0 and '0':\n",
        "df['StateHoliday']=df['StateHoliday'].map({'0':'Normal day', 'a':'Public Holiday', 'b':'Easter holiday', 'c':'Christmas', 0:'Normal day'})\n",
        "df['StateHoliday'].unique()\n",
        "# average_sales_on_state_holiday.plot.bar(figsize=(15 , 5), color = 'r', legend = 0)\n",
        "# plt.xlabel('StateHoliday' , size= 20)\n",
        "# plt.ylabel('Sales' , size= 20)\n",
        "# plt.grid()\n",
        "# plt.title('The average sales on atate holiday')\n"
      ]
    },
    {
      "cell_type": "code",
      "execution_count": null,
      "metadata": {
        "colab": {
          "base_uri": "https://localhost:8080/",
          "height": 175
        },
        "id": "-_CP_yHg40hi",
        "outputId": "3184087d-54a4-4bec-ce9c-bef42c366798"
      },
      "outputs": [
        {
          "output_type": "execute_result",
          "data": {
            "text/html": [
              "<div>\n",
              "<style scoped>\n",
              "    .dataframe tbody tr th:only-of-type {\n",
              "        vertical-align: middle;\n",
              "    }\n",
              "\n",
              "    .dataframe tbody tr th {\n",
              "        vertical-align: top;\n",
              "    }\n",
              "\n",
              "    .dataframe thead th {\n",
              "        text-align: right;\n",
              "    }\n",
              "</style>\n",
              "<table border=\"1\" class=\"dataframe\">\n",
              "  <thead>\n",
              "    <tr style=\"text-align: right;\">\n",
              "      <th></th>\n",
              "      <th>StateHoliday</th>\n",
              "      <th>Sales</th>\n",
              "      <th>Customers</th>\n",
              "    </tr>\n",
              "  </thead>\n",
              "  <tbody>\n",
              "    <tr>\n",
              "      <th>1</th>\n",
              "      <td>Easter holiday</td>\n",
              "      <td>9887.9</td>\n",
              "      <td>1686.9</td>\n",
              "    </tr>\n",
              "    <tr>\n",
              "      <th>0</th>\n",
              "      <td>Christmas</td>\n",
              "      <td>9743.7</td>\n",
              "      <td>1569.2</td>\n",
              "    </tr>\n",
              "    <tr>\n",
              "      <th>3</th>\n",
              "      <td>Public Holiday</td>\n",
              "      <td>8487.5</td>\n",
              "      <td>1279.2</td>\n",
              "    </tr>\n",
              "    <tr>\n",
              "      <th>2</th>\n",
              "      <td>Normal day</td>\n",
              "      <td>6953.5</td>\n",
              "      <td>762.1</td>\n",
              "    </tr>\n",
              "  </tbody>\n",
              "</table>\n",
              "</div>"
            ],
            "text/plain": [
              "     StateHoliday   Sales  Customers\n",
              "1  Easter holiday  9887.9     1686.9\n",
              "0       Christmas  9743.7     1569.2\n",
              "3  Public Holiday  8487.5     1279.2\n",
              "2      Normal day  6953.5      762.1"
            ]
          },
          "metadata": {},
          "execution_count": 34
        }
      ],
      "source": [
        "# then run the Sales:\n",
        "shop_open = df[df['Open'] == 1]\n",
        "shop_open.groupby(['StateHoliday'])[['Sales','Customers']].mean().reset_index().round(1).sort_values('Sales', ascending = False)"
      ]
    },
    {
      "cell_type": "code",
      "execution_count": null,
      "metadata": {
        "colab": {
          "base_uri": "https://localhost:8080/",
          "height": 175
        },
        "id": "uWKJ0QKthagj",
        "outputId": "50e39eae-3dfa-4af3-abce-817fc9e8dfe0"
      },
      "outputs": [
        {
          "output_type": "execute_result",
          "data": {
            "text/html": [
              "<div>\n",
              "<style scoped>\n",
              "    .dataframe tbody tr th:only-of-type {\n",
              "        vertical-align: middle;\n",
              "    }\n",
              "\n",
              "    .dataframe tbody tr th {\n",
              "        vertical-align: top;\n",
              "    }\n",
              "\n",
              "    .dataframe thead th {\n",
              "        text-align: right;\n",
              "    }\n",
              "</style>\n",
              "<table border=\"1\" class=\"dataframe\">\n",
              "  <thead>\n",
              "    <tr style=\"text-align: right;\">\n",
              "      <th></th>\n",
              "      <th>StateHoliday</th>\n",
              "      <th>Customers</th>\n",
              "    </tr>\n",
              "  </thead>\n",
              "  <tbody>\n",
              "    <tr>\n",
              "      <th>0</th>\n",
              "      <td>Christmas</td>\n",
              "      <td>1569.2</td>\n",
              "    </tr>\n",
              "    <tr>\n",
              "      <th>1</th>\n",
              "      <td>Easter holiday</td>\n",
              "      <td>1686.9</td>\n",
              "    </tr>\n",
              "    <tr>\n",
              "      <th>2</th>\n",
              "      <td>Normal day</td>\n",
              "      <td>762.1</td>\n",
              "    </tr>\n",
              "    <tr>\n",
              "      <th>3</th>\n",
              "      <td>Public Holiday</td>\n",
              "      <td>1279.2</td>\n",
              "    </tr>\n",
              "  </tbody>\n",
              "</table>\n",
              "</div>"
            ],
            "text/plain": [
              "     StateHoliday  Customers\n",
              "0       Christmas     1569.2\n",
              "1  Easter holiday     1686.9\n",
              "2      Normal day      762.1\n",
              "3  Public Holiday     1279.2"
            ]
          },
          "metadata": {},
          "execution_count": 35
        }
      ],
      "source": [
        "avg_customers_number_in_state_holiday = shop_open.groupby([('StateHoliday')])[['Customers']].mean().reset_index().round(1)\n",
        "avg_customers_number_in_state_holiday\n",
        "# .sort_values('Customers', ascending = False)\n",
        "# avg_customers_number_in_state_holiday.plot.bar()\n",
        "# avg_customers_number_in_state_holiday.plot.bar(figsize=(15 , 5), legend = 0)\n",
        "# plt.xlabel('StateHoliday' , size= 20)\n",
        "# plt.ylabel('Customers' , size= 20)\n",
        "# plt.grid()\n",
        "# plt.title('The average customers on state holiday')"
      ]
    },
    {
      "cell_type": "code",
      "execution_count": null,
      "metadata": {
        "colab": {
          "base_uri": "https://localhost:8080/",
          "height": 354
        },
        "id": "J8oi_y8za__B",
        "outputId": "9babfd1d-3b75-4b8f-805c-99a09d574f4b"
      },
      "outputs": [
        {
          "output_type": "execute_result",
          "data": {
            "text/plain": [
              "<matplotlib.axes._subplots.AxesSubplot at 0x7f0997eabcd0>"
            ]
          },
          "metadata": {},
          "execution_count": 36
        },
        {
          "output_type": "display_data",
          "data": {
            "image/png": "[encoded data removed]",
            "text/plain": [
              "<Figure size 360x360 with 1 Axes>"
            ]
          },
          "metadata": {
            "needs_background": "light"
          }
        }
      ],
      "source": [
        "fig, ax = plt.subplots(figsize=(5,5))\n",
        "# sns.barplot(x=\"DayOfWeek\", y=\"Sales\", data=df)\n",
        "\n",
        "sns.barplot(\n",
        "    data=avg_customers_number_in_state_holiday,\n",
        "    x=\"StateHoliday\", y=\"Customers\" \n",
        ")"
      ]
    },
    {
      "cell_type": "code",
      "execution_count": null,
      "metadata": {
        "id": "h9RIIVGciA1k",
        "colab": {
          "base_uri": "https://localhost:8080/",
          "height": 438
        },
        "outputId": "6efededa-f249-4f64-fa49-8e318f85f09f"
      },
      "outputs": [
        {
          "output_type": "execute_result",
          "data": {
            "text/plain": [
              "Text(0.5, 1.0, 'The average sales per customer on state holiday')"
            ]
          },
          "metadata": {},
          "execution_count": 37
        },
        {
          "output_type": "display_data",
          "data": {
            "image/png": "[encoded data removed]",
            "text/plain": [
              "<Figure size 1080x360 with 1 Axes>"
            ]
          },
          "metadata": {
            "needs_background": "light"
          }
        }
      ],
      "source": [
        "# Find out how is\n",
        "shop_open = df[df['Open'] == 1]\n",
        "a = shop_open.groupby([('StateHoliday')])[['Sales','Customers']].mean().round(1).sort_values('Sales', ascending = False)\n",
        "# a.head()\n",
        "avg_spend_money_per_customer_in_state_holiday= ((a['Sales'])/(a['Customers'])).round(3)\n",
        "avg_spend_money_per_customer_in_state_holiday.head()\n",
        "\n",
        "avg_spend_money_per_customer_in_state_holiday.plot.bar(figsize=(15 , 5), legend = 0)\n",
        "plt.xlabel('StateHoliday' , size= 20)\n",
        "plt.ylabel('Sales per customer' , size= 20)\n",
        "plt.grid()\n",
        "plt.title('The average sales per customer on state holiday')"
      ]
    },
    {
      "cell_type": "code",
      "execution_count": null,
      "metadata": {
        "id": "VqlnNC_7j6T_"
      },
      "outputs": [],
      "source": [
        "#StateHoliday vs salse\n",
        "#rossman_train['StateHoliday']=rossman_train['StateHoliday'].map({'0':'Normal day', 'a':'Public Holiday', 'b':'Easter holiday', 'c':'Christmas', 0:'Normal day'})\n",
        "#shop_open = df[df['Open'] == 1]\n",
        "#avarage_StateHoliday = shop_open.groupby([('StateHoliday')])[['Sales','Customers']].mean().reset_index().round(1).sort_values('Sales', ascending = False)\n",
        "#avarage_StateHoliday['Sales per Customer']= (avarage_StateHoliday['Sales']/avarage_StateHoliday['Customers']).round(2)\n",
        "#avarage_StateHoliday"
      ]
    },
    {
      "cell_type": "code",
      "execution_count": null,
      "metadata": {
        "id": "kVzFQF02jGWS"
      },
      "outputs": [],
      "source": [
        "#Sales on weekdays vs sales on weekends. Make a new feature? If the sales on weekends are higher?\n",
        "\n",
        "Daily_sales_for_whole_df_on_avg = shop_open.groupby(['DayOfWeek'])[['Sales']].mean().reset_index().round(2)\n",
        "\n",
        "# Daily_sales_for_whole_df_on_avg.plot.bar(figsize=(15 , 5), legend = 0)\n",
        "# plt.xlabel('Day of week' , size= 20)\n",
        "# plt.ylabel('Sales on average' , size= 20)\n",
        "# plt.grid()\n",
        "# plt.title('The Daily sales in a week in average')"
      ]
    },
    {
      "cell_type": "code",
      "execution_count": null,
      "metadata": {
        "id": "3qxkWY1Xd3uG",
        "colab": {
          "base_uri": "https://localhost:8080/",
          "height": 354
        },
        "outputId": "d101b4e5-52e8-4d42-fcaf-24edfe9db867"
      },
      "outputs": [
        {
          "output_type": "execute_result",
          "data": {
            "text/plain": [
              "<matplotlib.axes._subplots.AxesSubplot at 0x7f0997d9f2d0>"
            ]
          },
          "metadata": {},
          "execution_count": 40
        },
        {
          "output_type": "display_data",
          "data": {
            "image/png": "[encoded data removed]",
            "text/plain": [
              "<Figure size 360x360 with 1 Axes>"
            ]
          },
          "metadata": {
            "needs_background": "light"
          }
        }
      ],
      "source": [
        "fig, ax = plt.subplots(figsize=(5,5))\n",
        "# sns.barplot(x=\"DayOfWeek\", y=\"Sales\", data=df)\n",
        "\n",
        "sns.barplot(\n",
        "    data=Daily_sales_for_whole_df_on_avg,\n",
        "    x=\"DayOfWeek\", y=\"Sales\" \n",
        ")"
      ]
    },
    {
      "cell_type": "code",
      "execution_count": null,
      "metadata": {
        "id": "q6WgOemJkVZ9"
      },
      "outputs": [],
      "source": [
        "#Mon - Sun vs sales\n",
        "#rossman_train.groupby([str('DayOfWeek')])[['Sales','Customers']].mean().reset_index().round(1).sort_values('Sales', ascending = False)"
      ]
    },
    {
      "cell_type": "code",
      "execution_count": null,
      "metadata": {
        "id": "zZ0nM5U_pOwJ",
        "colab": {
          "base_uri": "https://localhost:8080/",
          "height": 112
        },
        "outputId": "28758167-2db3-4a43-fc94-5bbbc87adff4"
      },
      "outputs": [
        {
          "output_type": "execute_result",
          "data": {
            "text/html": [
              "<div>\n",
              "<style scoped>\n",
              "    .dataframe tbody tr th:only-of-type {\n",
              "        vertical-align: middle;\n",
              "    }\n",
              "\n",
              "    .dataframe tbody tr th {\n",
              "        vertical-align: top;\n",
              "    }\n",
              "\n",
              "    .dataframe thead th {\n",
              "        text-align: right;\n",
              "    }\n",
              "</style>\n",
              "<table border=\"1\" class=\"dataframe\">\n",
              "  <thead>\n",
              "    <tr style=\"text-align: right;\">\n",
              "      <th></th>\n",
              "      <th></th>\n",
              "      <th>Sales</th>\n",
              "    </tr>\n",
              "    <tr>\n",
              "      <th>Week</th>\n",
              "      <th>Month</th>\n",
              "      <th></th>\n",
              "    </tr>\n",
              "  </thead>\n",
              "  <tbody>\n",
              "    <tr>\n",
              "      <th>52</th>\n",
              "      <th>12</th>\n",
              "      <td>9744.0</td>\n",
              "    </tr>\n",
              "  </tbody>\n",
              "</table>\n",
              "</div>"
            ],
            "text/plain": [
              "             Sales\n",
              "Week Month        \n",
              "52   12     9744.0"
            ]
          },
          "metadata": {},
          "execution_count": 42
        }
      ],
      "source": [
        "# Weekly plot for the month of holidays: Christmas? and Easter?\n",
        "\n",
        "# December weekly sales\n",
        "holiday_sales = df[((df['StateHoliday']== 'Christmas') | (df['StateHoliday'] == 'Easter Holiday')) & (df['Open']== 1) ]\n",
        "holiday_sales.groupby(['Week', 'Month'])[['Sales']].mean().sort_values('Month',ascending = True).round()\n",
        "#df['StateHoliday'].unique()\n",
        "\n",
        "#weekly_sales = df.groupby(['week', 'month'])[['Sales']].mean().sort_values('month',ascending = True).round()\n",
        "#weekly_sales.tail()\n",
        "\n",
        "# April weekly sales\n",
        "#weekly_sales.head(21)"
      ]
    },
    {
      "cell_type": "code",
      "execution_count": null,
      "metadata": {
        "id": "7xBhSHXFCmCh",
        "colab": {
          "base_uri": "https://localhost:8080/",
          "height": 282
        },
        "outputId": "9e035039-07a3-4876-da27-df6b20036ffe"
      },
      "outputs": [
        {
          "output_type": "execute_result",
          "data": {
            "text/plain": [
              "<matplotlib.axes._subplots.AxesSubplot at 0x7f0997df4410>"
            ]
          },
          "metadata": {},
          "execution_count": 43
        },
        {
          "output_type": "display_data",
          "data": {
            "image/png": "[encoded data removed]",
            "text/plain": [
              "<Figure size 432x288 with 1 Axes>"
            ]
          },
          "metadata": {
            "needs_background": "light"
          }
        }
      ],
      "source": [
        "weeks = [1,2,3,4,5]\n",
        "April_weekly_sales = [5322, 5223, 5935, 4932, 9200]\n",
        "December_weekly_sales = [6669, 197, 7850, 5893, 4715]\n",
        "\n",
        "#AprilGraph = pd.DataFrame(April_weekly_sales, weeks)\n",
        "#AprilGraph.plot(kind = 'line')\n",
        "DecemberGraph = pd.DataFrame(December_weekly_sales, weeks)\n",
        "DecemberGraph.plot(kind = 'line')"
      ]
    },
    {
      "cell_type": "code",
      "execution_count": null,
      "metadata": {
        "id": "b_Xie7Oxi_nn",
        "colab": {
          "base_uri": "https://localhost:8080/",
          "height": 238
        },
        "outputId": "9ce33b7b-9ceb-4881-ac47-34591682755e"
      },
      "outputs": [
        {
          "output_type": "execute_result",
          "data": {
            "text/html": [
              "<div>\n",
              "<style scoped>\n",
              "    .dataframe tbody tr th:only-of-type {\n",
              "        vertical-align: middle;\n",
              "    }\n",
              "\n",
              "    .dataframe tbody tr th {\n",
              "        vertical-align: top;\n",
              "    }\n",
              "\n",
              "    .dataframe thead th {\n",
              "        text-align: right;\n",
              "    }\n",
              "</style>\n",
              "<table border=\"1\" class=\"dataframe\">\n",
              "  <thead>\n",
              "    <tr style=\"text-align: right;\">\n",
              "      <th></th>\n",
              "      <th>Promo2</th>\n",
              "      <th>Year</th>\n",
              "      <th>Sales</th>\n",
              "    </tr>\n",
              "  </thead>\n",
              "  <tbody>\n",
              "    <tr>\n",
              "      <th>0</th>\n",
              "      <td>0</td>\n",
              "      <td>2013</td>\n",
              "      <td>6029.67</td>\n",
              "    </tr>\n",
              "    <tr>\n",
              "      <th>1</th>\n",
              "      <td>1</td>\n",
              "      <td>2013</td>\n",
              "      <td>5304.95</td>\n",
              "    </tr>\n",
              "    <tr>\n",
              "      <th>2</th>\n",
              "      <td>0</td>\n",
              "      <td>2014</td>\n",
              "      <td>6161.39</td>\n",
              "    </tr>\n",
              "    <tr>\n",
              "      <th>3</th>\n",
              "      <td>1</td>\n",
              "      <td>2014</td>\n",
              "      <td>5478.84</td>\n",
              "    </tr>\n",
              "    <tr>\n",
              "      <th>4</th>\n",
              "      <td>0</td>\n",
              "      <td>2015</td>\n",
              "      <td>6226.61</td>\n",
              "    </tr>\n",
              "    <tr>\n",
              "      <th>5</th>\n",
              "      <td>1</td>\n",
              "      <td>2015</td>\n",
              "      <td>5546.36</td>\n",
              "    </tr>\n",
              "  </tbody>\n",
              "</table>\n",
              "</div>"
            ],
            "text/plain": [
              "   Promo2  Year    Sales\n",
              "0       0  2013  6029.67\n",
              "1       1  2013  5304.95\n",
              "2       0  2014  6161.39\n",
              "3       1  2014  5478.84\n",
              "4       0  2015  6226.61\n",
              "5       1  2015  5546.36"
            ]
          },
          "metadata": {},
          "execution_count": 44
        }
      ],
      "source": [
        "#Promo2 interval and sales. Do store which don't take part in the sales sale less? Is promo of any use?\n",
        "df['PromoInterval'].unique()\n",
        "df.groupby(['Promo2','Year'])[['Sales']].mean().round(2).sort_values('Year', ascending = True).reset_index()\n",
        "# import seaborn as sns       # plotting library\n",
        "\n",
        "# sns.histplot(data=test, x=\"Promo2\", bins=12, hue=\"Sales\", multiple=\"dodge\")\n",
        "# g=sns.relplot(data=train_store, x=\"Customers\", y=\"Sales\", hue=\"DayOfWeek\", s=20)\n",
        "# g.set( xscale=\"log\" , yscale=\"log\")"
      ]
    },
    {
      "cell_type": "code",
      "execution_count": null,
      "metadata": {
        "id": "j1nvJEaQjXs3",
        "colab": {
          "base_uri": "https://localhost:8080/",
          "height": 238
        },
        "outputId": "03c5cde4-f747-4c9c-9cfd-cb8bc39e2051"
      },
      "outputs": [
        {
          "output_type": "execute_result",
          "data": {
            "text/html": [
              "<div>\n",
              "<style scoped>\n",
              "    .dataframe tbody tr th:only-of-type {\n",
              "        vertical-align: middle;\n",
              "    }\n",
              "\n",
              "    .dataframe tbody tr th {\n",
              "        vertical-align: top;\n",
              "    }\n",
              "\n",
              "    .dataframe thead th {\n",
              "        text-align: right;\n",
              "    }\n",
              "</style>\n",
              "<table border=\"1\" class=\"dataframe\">\n",
              "  <thead>\n",
              "    <tr style=\"text-align: right;\">\n",
              "      <th></th>\n",
              "      <th>Promo2</th>\n",
              "      <th>Year</th>\n",
              "      <th>Sales</th>\n",
              "    </tr>\n",
              "  </thead>\n",
              "  <tbody>\n",
              "    <tr>\n",
              "      <th>0</th>\n",
              "      <td>0</td>\n",
              "      <td>2013</td>\n",
              "      <td>6029.67</td>\n",
              "    </tr>\n",
              "    <tr>\n",
              "      <th>1</th>\n",
              "      <td>1</td>\n",
              "      <td>2013</td>\n",
              "      <td>5304.95</td>\n",
              "    </tr>\n",
              "    <tr>\n",
              "      <th>2</th>\n",
              "      <td>0</td>\n",
              "      <td>2014</td>\n",
              "      <td>6161.39</td>\n",
              "    </tr>\n",
              "    <tr>\n",
              "      <th>3</th>\n",
              "      <td>1</td>\n",
              "      <td>2014</td>\n",
              "      <td>5478.84</td>\n",
              "    </tr>\n",
              "    <tr>\n",
              "      <th>4</th>\n",
              "      <td>0</td>\n",
              "      <td>2015</td>\n",
              "      <td>6226.61</td>\n",
              "    </tr>\n",
              "    <tr>\n",
              "      <th>5</th>\n",
              "      <td>1</td>\n",
              "      <td>2015</td>\n",
              "      <td>5546.36</td>\n",
              "    </tr>\n",
              "  </tbody>\n",
              "</table>\n",
              "</div>"
            ],
            "text/plain": [
              "   Promo2  Year    Sales\n",
              "0       0  2013  6029.67\n",
              "1       1  2013  5304.95\n",
              "2       0  2014  6161.39\n",
              "3       1  2014  5478.84\n",
              "4       0  2015  6226.61\n",
              "5       1  2015  5546.36"
            ]
          },
          "metadata": {},
          "execution_count": 45
        }
      ],
      "source": [
        "#Graph/ Analysis: Promo2 interval and sales. Do store which don't take part in the sales sale less? Is promo of any use?\n",
        "df['PromoInterval'].unique()\n",
        "test = df.groupby(['Promo2','Year'])[['Sales']].mean().round(2).sort_values('Year', ascending = True).reset_index()\n",
        "test\n",
        "# test = df.groupby(['Year'])[['Sales']].mean().round(2).sort_values('Year', ascending = True).reset_index()\n"
      ]
    },
    {
      "cell_type": "code",
      "execution_count": null,
      "metadata": {
        "id": "7Cp0JpQawPK7",
        "colab": {
          "base_uri": "https://localhost:8080/",
          "height": 426
        },
        "outputId": "d164c57a-5146-49b3-c7ca-ecf105e18647"
      },
      "outputs": [
        {
          "output_type": "execute_result",
          "data": {
            "text/html": [
              "<div>\n",
              "<style scoped>\n",
              "    .dataframe tbody tr th:only-of-type {\n",
              "        vertical-align: middle;\n",
              "    }\n",
              "\n",
              "    .dataframe tbody tr th {\n",
              "        vertical-align: top;\n",
              "    }\n",
              "\n",
              "    .dataframe thead th {\n",
              "        text-align: right;\n",
              "    }\n",
              "</style>\n",
              "<table border=\"1\" class=\"dataframe\">\n",
              "  <thead>\n",
              "    <tr style=\"text-align: right;\">\n",
              "      <th></th>\n",
              "      <th>PromoInterval</th>\n",
              "      <th>Year</th>\n",
              "      <th>Sales</th>\n",
              "    </tr>\n",
              "  </thead>\n",
              "  <tbody>\n",
              "    <tr>\n",
              "      <th>0</th>\n",
              "      <td>0</td>\n",
              "      <td>2013</td>\n",
              "      <td>6029.67</td>\n",
              "    </tr>\n",
              "    <tr>\n",
              "      <th>1</th>\n",
              "      <td>Feb,May,Aug,Nov</td>\n",
              "      <td>2013</td>\n",
              "      <td>5185.70</td>\n",
              "    </tr>\n",
              "    <tr>\n",
              "      <th>2</th>\n",
              "      <td>Jan,Apr,Jul,Oct</td>\n",
              "      <td>2013</td>\n",
              "      <td>5443.83</td>\n",
              "    </tr>\n",
              "    <tr>\n",
              "      <th>3</th>\n",
              "      <td>Mar,Jun,Sept,Dec</td>\n",
              "      <td>2013</td>\n",
              "      <td>5012.29</td>\n",
              "    </tr>\n",
              "    <tr>\n",
              "      <th>4</th>\n",
              "      <td>0</td>\n",
              "      <td>2014</td>\n",
              "      <td>6161.39</td>\n",
              "    </tr>\n",
              "    <tr>\n",
              "      <th>5</th>\n",
              "      <td>Feb,May,Aug,Nov</td>\n",
              "      <td>2014</td>\n",
              "      <td>5398.72</td>\n",
              "    </tr>\n",
              "    <tr>\n",
              "      <th>6</th>\n",
              "      <td>Jan,Apr,Jul,Oct</td>\n",
              "      <td>2014</td>\n",
              "      <td>5606.62</td>\n",
              "    </tr>\n",
              "    <tr>\n",
              "      <th>7</th>\n",
              "      <td>Mar,Jun,Sept,Dec</td>\n",
              "      <td>2014</td>\n",
              "      <td>5223.65</td>\n",
              "    </tr>\n",
              "    <tr>\n",
              "      <th>8</th>\n",
              "      <td>0</td>\n",
              "      <td>2015</td>\n",
              "      <td>6226.61</td>\n",
              "    </tr>\n",
              "    <tr>\n",
              "      <th>9</th>\n",
              "      <td>Feb,May,Aug,Nov</td>\n",
              "      <td>2015</td>\n",
              "      <td>5388.21</td>\n",
              "    </tr>\n",
              "    <tr>\n",
              "      <th>10</th>\n",
              "      <td>Jan,Apr,Jul,Oct</td>\n",
              "      <td>2015</td>\n",
              "      <td>5704.23</td>\n",
              "    </tr>\n",
              "    <tr>\n",
              "      <th>11</th>\n",
              "      <td>Mar,Jun,Sept,Dec</td>\n",
              "      <td>2015</td>\n",
              "      <td>5241.36</td>\n",
              "    </tr>\n",
              "  </tbody>\n",
              "</table>\n",
              "</div>"
            ],
            "text/plain": [
              "       PromoInterval  Year    Sales\n",
              "0                  0  2013  6029.67\n",
              "1    Feb,May,Aug,Nov  2013  5185.70\n",
              "2    Jan,Apr,Jul,Oct  2013  5443.83\n",
              "3   Mar,Jun,Sept,Dec  2013  5012.29\n",
              "4                  0  2014  6161.39\n",
              "5    Feb,May,Aug,Nov  2014  5398.72\n",
              "6    Jan,Apr,Jul,Oct  2014  5606.62\n",
              "7   Mar,Jun,Sept,Dec  2014  5223.65\n",
              "8                  0  2015  6226.61\n",
              "9    Feb,May,Aug,Nov  2015  5388.21\n",
              "10   Jan,Apr,Jul,Oct  2015  5704.23\n",
              "11  Mar,Jun,Sept,Dec  2015  5241.36"
            ]
          },
          "metadata": {},
          "execution_count": 46
        }
      ],
      "source": [
        "df.groupby(['PromoInterval', 'Year'])[['Sales']].mean().round(2).sort_values('Year', ascending = True).reset_index()\n",
        "\n",
        "\n",
        "# PromoInterval_data\n",
        "\n",
        "# PromoInterval_data.plot.bar(figsize=(15 , 5), color = 'y', legend = 0)\n",
        "# plt.xlabel('PromoInterval' , size= 20)\n",
        "# plt.ylabel('Sales' , size= 20)\n",
        "# plt.grid()\n",
        "# plt.title('The Daily sales in a week in average')"
      ]
    },
    {
      "cell_type": "code",
      "execution_count": null,
      "metadata": {
        "id": "uBrx4Ek4hzeY",
        "colab": {
          "base_uri": "https://localhost:8080/",
          "height": 326
        },
        "outputId": "605f5eae-90a9-4592-d300-c597269f1bcc"
      },
      "outputs": [
        {
          "output_type": "execute_result",
          "data": {
            "text/plain": [
              "<matplotlib.legend.Legend at 0x7f0997bb73d0>"
            ]
          },
          "metadata": {},
          "execution_count": 47
        },
        {
          "output_type": "display_data",
          "data": {
            "image/png": "[encoded data removed]",
            "text/plain": [
              "<Figure size 1800x360 with 2 Axes>"
            ]
          },
          "metadata": {
            "needs_background": "light"
          }
        }
      ],
      "source": [
        "#sales and Number of customers> line chart\n",
        "df_year_2013 = df[(df['Year']== 2013) & (df['Open']== 1)]\n",
        "df_year_2013_monthly = df_year_2013.groupby(['Month'])[['Sales' , 'Customers']].mean().reset_index()\n",
        "df_year_2013_monthly\n",
        "\n",
        "df_year_2014 = df[(df['Year']== 2014) & (df['Open']== 1)]\n",
        "df_year_2014_monthly = df_year_2014.groupby(['Month'])[['Sales' , 'Customers']].mean().reset_index()\n",
        "df_year_2014_monthly\n",
        "\n",
        "df_year_2015 = df[(df['Year']== 2015) & (df['Open']== 1)]\n",
        "df_year_2015_monthly = df_year_2015.groupby(['Month'])[['Sales' , 'Customers']].mean().reset_index()\n",
        "df_year_2015_monthly\n",
        "\n",
        "fig, ax= plt.subplots(nrows= 1, ncols=2 , figsize=(25,5))\n",
        "\n",
        "ax[0].plot(df_year_2013_monthly['Month'],df_year_2013_monthly['Sales'], marker = 'o', color= 'r' , label= '2013')\n",
        "ax[0].plot(df_year_2014_monthly['Month'],df_year_2014_monthly['Sales'], marker = 'o', color= 'g' , label= '2014')\n",
        "ax[0].plot(df_year_2015_monthly['Month'],df_year_2015_monthly['Sales'], marker = 'o', color= 'b' , label= '2015')\n",
        "\n",
        "ax[0].title.set_text('Average sales per month')\n",
        "ax[0].set_xlabel('Month' , size = 20)\n",
        "ax[0].set_ylabel('Average sales' , size = 20)\n",
        "\n",
        "ax[0].grid()\n",
        "ax[0].set_xticks(np.arange(1,12,step= 1))\n",
        "ax[0].legend()\n",
        "\n",
        "ax[1].plot(df_year_2013_monthly['Month'],df_year_2013_monthly['Customers'], marker = 'o', color= 'r' , label= '2013')\n",
        "ax[1].plot(df_year_2014_monthly['Month'],df_year_2014_monthly['Customers'], marker = 'o', color= 'g' , label= '2014')\n",
        "ax[1].plot(df_year_2015_monthly['Month'],df_year_2015_monthly['Customers'], marker = 'o', color= 'b' , label= '2015')\n",
        "\n",
        "ax[1].title.set_text('Average customers per month')\n",
        "ax[1].set_xlabel('Month' , size = 20)\n",
        "ax[1].set_ylabel('Average customers' , size = 20)\n",
        "\n",
        "ax[1].grid()\n",
        "ax[1].set_xticks(np.arange(1,12,step= 1))\n",
        "ax[1].legend()\n"
      ]
    },
    {
      "cell_type": "code",
      "execution_count": null,
      "metadata": {
        "id": "9zRH3iUbh_46"
      },
      "outputs": [],
      "source": [
        "#sales vs competition distance > no relationship\n",
        "\n",
        "# q=sns.regplot(data=full_data, x=\"CompetitionDistance\", y=\"Sales\",scatter_kws={\"color\": \"grey\"}, line_kws={\"color\": \"purple\"})\n",
        "\n",
        "# # set title\n",
        "# plt.title(\"Competition Distance vs Sales\")\n",
        "\n",
        "# # hide frame\n",
        "# for position in q.spines.keys():\n",
        "#   q.spines[position].set_visible(False)\n",
        "\n",
        "# plt.show()\n"
      ]
    },
    {
      "cell_type": "code",
      "execution_count": null,
      "metadata": {
        "id": "Gk0TPkX7Dadz",
        "colab": {
          "base_uri": "https://localhost:8080/",
          "height": 393
        },
        "outputId": "171f95df-d4bd-4f5d-9b6f-fe58bf8d2fb6"
      },
      "outputs": [
        {
          "output_type": "execute_result",
          "data": {
            "text/plain": [
              "Text(0.5, 1.0, 'Influence on the store number 6 - sales after the opening of a competition nearby on 12.2013')"
            ]
          },
          "metadata": {},
          "execution_count": 49
        },
        {
          "output_type": "display_data",
          "data": {
            "image/png": "[encoded data removed]",
            "text/plain": [
              "<Figure size 1800x360 with 1 Axes>"
            ]
          },
          "metadata": {
            "needs_background": "light"
          }
        }
      ],
      "source": [
        "# Check the competition effect on the sales of store (x), when it is nearby opened ?\n",
        "# Example : Store number 6 \n",
        "# Competition had on 12.2013 opened\n",
        "\n",
        "df.loc[(df['Store']==6 ) & (df['Open'] == 1),'Store']\n",
        "\n",
        "Store_6 = df[df['Store'] == 6]\n",
        "Store_6 = Store_6.groupby(['Year', 'Month'])['Sales'].mean().reset_index()\n",
        "\n",
        "plt.figure(figsize=(25,5))\n",
        "plt.plot(np.arange(1,Store_6 .shape[0]+1), Store_6['Sales'], marker = 'o')\n",
        "plt.xlabel('Period',size =22)\n",
        "plt.ylabel('Sales',size =22)\n",
        "\n",
        "years= ['2013','2014','2015']\n",
        "xticks_array= []\n",
        "for y in years:\n",
        "    for m in range (1,13):\n",
        "\t    string = y+  '-' +str(m)\n",
        "\t    xticks_array.append(string)\n",
        "     \n",
        "plt.xticks(np.arange(1, Store_6.shape[0]+1),xticks_array, rotation= 90, size = 20)\n",
        "plt.yticks(size=15)\n",
        "plt.grid()\n",
        "plt.title('Influence on the store number 6 - sales after the opening of a competition nearby on 12.2013', size = 25)"
      ]
    },
    {
      "cell_type": "code",
      "execution_count": null,
      "metadata": {
        "id": "f-p-ilzJWeqx",
        "colab": {
          "base_uri": "https://localhost:8080/"
        },
        "outputId": "db16850a-ff58-4ab6-8ca4-e2c5d27761b6"
      },
      "outputs": [
        {
          "output_type": "stream",
          "name": "stdout",
          "text": [
            "<class 'pandas.core.frame.DataFrame'>\n",
            "Int64Index: 1017209 entries, 0 to 1017208\n",
            "Data columns (total 22 columns):\n",
            " #   Column                     Non-Null Count    Dtype         \n",
            "---  ------                     --------------    -----         \n",
            " 0   Store                      1017209 non-null  int64         \n",
            " 1   DayOfWeek                  1017209 non-null  int64         \n",
            " 2   Date                       1017209 non-null  datetime64[ns]\n",
            " 3   Sales                      1017209 non-null  int64         \n",
            " 4   Customers                  1017209 non-null  int64         \n",
            " 5   Open                       1017209 non-null  int64         \n",
            " 6   Promo                      1017209 non-null  int64         \n",
            " 7   StateHoliday               1017209 non-null  object        \n",
            " 8   SchoolHoliday              1017209 non-null  int64         \n",
            " 9   StoreType                  1017209 non-null  object        \n",
            " 10  Assortment                 1017209 non-null  object        \n",
            " 11  CompetitionDistance        1017209 non-null  float64       \n",
            " 12  CompetitionOpenSinceMonth  693861 non-null   float64       \n",
            " 13  CompetitionOpenSinceYear   693861 non-null   float64       \n",
            " 14  Promo2                     1017209 non-null  int64         \n",
            " 15  Promo2SinceWeek            509178 non-null   float64       \n",
            " 16  Promo2SinceYear            509178 non-null   float64       \n",
            " 17  PromoInterval              1017209 non-null  object        \n",
            " 18  Day                        1017209 non-null  int64         \n",
            " 19  Month                      1017209 non-null  int64         \n",
            " 20  Year                       1017209 non-null  int64         \n",
            " 21  Week                       1017209 non-null  int64         \n",
            "dtypes: datetime64[ns](1), float64(5), int64(12), object(4)\n",
            "memory usage: 178.5+ MB\n"
          ]
        }
      ],
      "source": [
        "df.info()"
      ]
    },
    {
      "cell_type": "code",
      "execution_count": null,
      "metadata": {
        "id": "qZM5MQcm-zd9",
        "colab": {
          "base_uri": "https://localhost:8080/",
          "height": 313
        },
        "outputId": "d25b60a2-32e2-4329-ce69-96f2b6f9fbc0"
      },
      "outputs": [
        {
          "output_type": "execute_result",
          "data": {
            "text/html": [
              "<div>\n",
              "<style scoped>\n",
              "    .dataframe tbody tr th:only-of-type {\n",
              "        vertical-align: middle;\n",
              "    }\n",
              "\n",
              "    .dataframe tbody tr th {\n",
              "        vertical-align: top;\n",
              "    }\n",
              "\n",
              "    .dataframe thead th {\n",
              "        text-align: right;\n",
              "    }\n",
              "</style>\n",
              "<table border=\"1\" class=\"dataframe\">\n",
              "  <thead>\n",
              "    <tr style=\"text-align: right;\">\n",
              "      <th></th>\n",
              "      <th>Store</th>\n",
              "      <th>DayOfWeek</th>\n",
              "      <th>Date</th>\n",
              "      <th>Sales</th>\n",
              "      <th>Customers</th>\n",
              "      <th>Open</th>\n",
              "      <th>Promo</th>\n",
              "      <th>StateHoliday</th>\n",
              "      <th>SchoolHoliday</th>\n",
              "      <th>StoreType</th>\n",
              "      <th>Assortment</th>\n",
              "      <th>CompetitionDistance</th>\n",
              "      <th>CompetitionOpenSinceMonth</th>\n",
              "      <th>CompetitionOpenSinceYear</th>\n",
              "      <th>Promo2</th>\n",
              "      <th>Promo2SinceWeek</th>\n",
              "      <th>Promo2SinceYear</th>\n",
              "      <th>PromoInterval</th>\n",
              "      <th>Day</th>\n",
              "      <th>Month</th>\n",
              "      <th>Year</th>\n",
              "      <th>Week</th>\n",
              "    </tr>\n",
              "  </thead>\n",
              "  <tbody>\n",
              "    <tr>\n",
              "      <th>0</th>\n",
              "      <td>1</td>\n",
              "      <td>5</td>\n",
              "      <td>2015-07-31</td>\n",
              "      <td>5263</td>\n",
              "      <td>555</td>\n",
              "      <td>1</td>\n",
              "      <td>1</td>\n",
              "      <td>Normal day</td>\n",
              "      <td>1</td>\n",
              "      <td>c</td>\n",
              "      <td>a</td>\n",
              "      <td>1270.0</td>\n",
              "      <td>9.0</td>\n",
              "      <td>2008.0</td>\n",
              "      <td>0</td>\n",
              "      <td>0.0</td>\n",
              "      <td>0.0</td>\n",
              "      <td>0</td>\n",
              "      <td>31</td>\n",
              "      <td>7</td>\n",
              "      <td>2015</td>\n",
              "      <td>31</td>\n",
              "    </tr>\n",
              "    <tr>\n",
              "      <th>1</th>\n",
              "      <td>1</td>\n",
              "      <td>4</td>\n",
              "      <td>2015-07-30</td>\n",
              "      <td>5020</td>\n",
              "      <td>546</td>\n",
              "      <td>1</td>\n",
              "      <td>1</td>\n",
              "      <td>Normal day</td>\n",
              "      <td>1</td>\n",
              "      <td>c</td>\n",
              "      <td>a</td>\n",
              "      <td>1270.0</td>\n",
              "      <td>9.0</td>\n",
              "      <td>2008.0</td>\n",
              "      <td>0</td>\n",
              "      <td>0.0</td>\n",
              "      <td>0.0</td>\n",
              "      <td>0</td>\n",
              "      <td>30</td>\n",
              "      <td>7</td>\n",
              "      <td>2015</td>\n",
              "      <td>31</td>\n",
              "    </tr>\n",
              "    <tr>\n",
              "      <th>2</th>\n",
              "      <td>1</td>\n",
              "      <td>3</td>\n",
              "      <td>2015-07-29</td>\n",
              "      <td>4782</td>\n",
              "      <td>523</td>\n",
              "      <td>1</td>\n",
              "      <td>1</td>\n",
              "      <td>Normal day</td>\n",
              "      <td>1</td>\n",
              "      <td>c</td>\n",
              "      <td>a</td>\n",
              "      <td>1270.0</td>\n",
              "      <td>9.0</td>\n",
              "      <td>2008.0</td>\n",
              "      <td>0</td>\n",
              "      <td>0.0</td>\n",
              "      <td>0.0</td>\n",
              "      <td>0</td>\n",
              "      <td>29</td>\n",
              "      <td>7</td>\n",
              "      <td>2015</td>\n",
              "      <td>31</td>\n",
              "    </tr>\n",
              "    <tr>\n",
              "      <th>3</th>\n",
              "      <td>1</td>\n",
              "      <td>2</td>\n",
              "      <td>2015-07-28</td>\n",
              "      <td>5011</td>\n",
              "      <td>560</td>\n",
              "      <td>1</td>\n",
              "      <td>1</td>\n",
              "      <td>Normal day</td>\n",
              "      <td>1</td>\n",
              "      <td>c</td>\n",
              "      <td>a</td>\n",
              "      <td>1270.0</td>\n",
              "      <td>9.0</td>\n",
              "      <td>2008.0</td>\n",
              "      <td>0</td>\n",
              "      <td>0.0</td>\n",
              "      <td>0.0</td>\n",
              "      <td>0</td>\n",
              "      <td>28</td>\n",
              "      <td>7</td>\n",
              "      <td>2015</td>\n",
              "      <td>31</td>\n",
              "    </tr>\n",
              "    <tr>\n",
              "      <th>4</th>\n",
              "      <td>1</td>\n",
              "      <td>1</td>\n",
              "      <td>2015-07-27</td>\n",
              "      <td>6102</td>\n",
              "      <td>612</td>\n",
              "      <td>1</td>\n",
              "      <td>1</td>\n",
              "      <td>Normal day</td>\n",
              "      <td>1</td>\n",
              "      <td>c</td>\n",
              "      <td>a</td>\n",
              "      <td>1270.0</td>\n",
              "      <td>9.0</td>\n",
              "      <td>2008.0</td>\n",
              "      <td>0</td>\n",
              "      <td>0.0</td>\n",
              "      <td>0.0</td>\n",
              "      <td>0</td>\n",
              "      <td>27</td>\n",
              "      <td>7</td>\n",
              "      <td>2015</td>\n",
              "      <td>31</td>\n",
              "    </tr>\n",
              "  </tbody>\n",
              "</table>\n",
              "</div>"
            ],
            "text/plain": [
              "   Store  DayOfWeek       Date  Sales  ...  Day  Month  Year Week\n",
              "0      1          5 2015-07-31   5263  ...   31      7  2015   31\n",
              "1      1          4 2015-07-30   5020  ...   30      7  2015   31\n",
              "2      1          3 2015-07-29   4782  ...   29      7  2015   31\n",
              "3      1          2 2015-07-28   5011  ...   28      7  2015   31\n",
              "4      1          1 2015-07-27   6102  ...   27      7  2015   31\n",
              "\n",
              "[5 rows x 22 columns]"
            ]
          },
          "metadata": {},
          "execution_count": 51
        }
      ],
      "source": [
        "# Replace NAN with 0 \n",
        "\n",
        "df[\"CompetitionOpenSinceMonth\"] = df[\"CompetitionOpenSinceMonth\"].fillna(0)\n",
        "df[\"CompetitionOpenSinceYear\"] = df[\"CompetitionOpenSinceYear\"].fillna(0)\n",
        "\n",
        "df[\"Promo2SinceWeek\"] = df[\"Promo2SinceWeek\"].fillna(0)\n",
        "df[\"Promo2SinceYear\"] = df[\"Promo2SinceYear\"].fillna(0)\n",
        "\n",
        "df.head()"
      ]
    },
    {
      "cell_type": "code",
      "execution_count": null,
      "metadata": {
        "id": "PCrQ7fVE_PaK",
        "colab": {
          "base_uri": "https://localhost:8080/",
          "height": 330
        },
        "outputId": "49d4f048-97a6-4c31-e6c6-196fff7e233b"
      },
      "outputs": [
        {
          "output_type": "execute_result",
          "data": {
            "text/html": [
              "<div>\n",
              "<style scoped>\n",
              "    .dataframe tbody tr th:only-of-type {\n",
              "        vertical-align: middle;\n",
              "    }\n",
              "\n",
              "    .dataframe tbody tr th {\n",
              "        vertical-align: top;\n",
              "    }\n",
              "\n",
              "    .dataframe thead th {\n",
              "        text-align: right;\n",
              "    }\n",
              "</style>\n",
              "<table border=\"1\" class=\"dataframe\">\n",
              "  <thead>\n",
              "    <tr style=\"text-align: right;\">\n",
              "      <th></th>\n",
              "      <th>Store</th>\n",
              "      <th>DayOfWeek</th>\n",
              "      <th>Date</th>\n",
              "      <th>Sales</th>\n",
              "      <th>Customers</th>\n",
              "      <th>Open</th>\n",
              "      <th>Promo</th>\n",
              "      <th>SchoolHoliday</th>\n",
              "      <th>CompetitionDistance</th>\n",
              "      <th>CompetitionOpenSinceMonth</th>\n",
              "      <th>CompetitionOpenSinceYear</th>\n",
              "      <th>Promo2</th>\n",
              "      <th>Promo2SinceWeek</th>\n",
              "      <th>Promo2SinceYear</th>\n",
              "      <th>Day</th>\n",
              "      <th>Month</th>\n",
              "      <th>Year</th>\n",
              "      <th>Week</th>\n",
              "      <th>StoreType_a</th>\n",
              "      <th>StoreType_b</th>\n",
              "      <th>StoreType_c</th>\n",
              "      <th>StoreType_d</th>\n",
              "      <th>Assortment_a</th>\n",
              "      <th>Assortment_b</th>\n",
              "      <th>Assortment_c</th>\n",
              "      <th>PromoInterval_0</th>\n",
              "      <th>PromoInterval_Feb,May,Aug,Nov</th>\n",
              "      <th>PromoInterval_Jan,Apr,Jul,Oct</th>\n",
              "      <th>PromoInterval_Mar,Jun,Sept,Dec</th>\n",
              "      <th>StateHoliday_Christmas</th>\n",
              "      <th>StateHoliday_Easter holiday</th>\n",
              "      <th>StateHoliday_Normal day</th>\n",
              "      <th>StateHoliday_Public Holiday</th>\n",
              "    </tr>\n",
              "  </thead>\n",
              "  <tbody>\n",
              "    <tr>\n",
              "      <th>0</th>\n",
              "      <td>1</td>\n",
              "      <td>5</td>\n",
              "      <td>2015-07-31</td>\n",
              "      <td>5263</td>\n",
              "      <td>555</td>\n",
              "      <td>1</td>\n",
              "      <td>1</td>\n",
              "      <td>1</td>\n",
              "      <td>1270.0</td>\n",
              "      <td>9.0</td>\n",
              "      <td>2008.0</td>\n",
              "      <td>0</td>\n",
              "      <td>0.0</td>\n",
              "      <td>0.0</td>\n",
              "      <td>31</td>\n",
              "      <td>7</td>\n",
              "      <td>2015</td>\n",
              "      <td>31</td>\n",
              "      <td>0</td>\n",
              "      <td>0</td>\n",
              "      <td>1</td>\n",
              "      <td>0</td>\n",
              "      <td>1</td>\n",
              "      <td>0</td>\n",
              "      <td>0</td>\n",
              "      <td>1</td>\n",
              "      <td>0</td>\n",
              "      <td>0</td>\n",
              "      <td>0</td>\n",
              "      <td>0</td>\n",
              "      <td>0</td>\n",
              "      <td>1</td>\n",
              "      <td>0</td>\n",
              "    </tr>\n",
              "    <tr>\n",
              "      <th>1</th>\n",
              "      <td>1</td>\n",
              "      <td>4</td>\n",
              "      <td>2015-07-30</td>\n",
              "      <td>5020</td>\n",
              "      <td>546</td>\n",
              "      <td>1</td>\n",
              "      <td>1</td>\n",
              "      <td>1</td>\n",
              "      <td>1270.0</td>\n",
              "      <td>9.0</td>\n",
              "      <td>2008.0</td>\n",
              "      <td>0</td>\n",
              "      <td>0.0</td>\n",
              "      <td>0.0</td>\n",
              "      <td>30</td>\n",
              "      <td>7</td>\n",
              "      <td>2015</td>\n",
              "      <td>31</td>\n",
              "      <td>0</td>\n",
              "      <td>0</td>\n",
              "      <td>1</td>\n",
              "      <td>0</td>\n",
              "      <td>1</td>\n",
              "      <td>0</td>\n",
              "      <td>0</td>\n",
              "      <td>1</td>\n",
              "      <td>0</td>\n",
              "      <td>0</td>\n",
              "      <td>0</td>\n",
              "      <td>0</td>\n",
              "      <td>0</td>\n",
              "      <td>1</td>\n",
              "      <td>0</td>\n",
              "    </tr>\n",
              "    <tr>\n",
              "      <th>2</th>\n",
              "      <td>1</td>\n",
              "      <td>3</td>\n",
              "      <td>2015-07-29</td>\n",
              "      <td>4782</td>\n",
              "      <td>523</td>\n",
              "      <td>1</td>\n",
              "      <td>1</td>\n",
              "      <td>1</td>\n",
              "      <td>1270.0</td>\n",
              "      <td>9.0</td>\n",
              "      <td>2008.0</td>\n",
              "      <td>0</td>\n",
              "      <td>0.0</td>\n",
              "      <td>0.0</td>\n",
              "      <td>29</td>\n",
              "      <td>7</td>\n",
              "      <td>2015</td>\n",
              "      <td>31</td>\n",
              "      <td>0</td>\n",
              "      <td>0</td>\n",
              "      <td>1</td>\n",
              "      <td>0</td>\n",
              "      <td>1</td>\n",
              "      <td>0</td>\n",
              "      <td>0</td>\n",
              "      <td>1</td>\n",
              "      <td>0</td>\n",
              "      <td>0</td>\n",
              "      <td>0</td>\n",
              "      <td>0</td>\n",
              "      <td>0</td>\n",
              "      <td>1</td>\n",
              "      <td>0</td>\n",
              "    </tr>\n",
              "    <tr>\n",
              "      <th>3</th>\n",
              "      <td>1</td>\n",
              "      <td>2</td>\n",
              "      <td>2015-07-28</td>\n",
              "      <td>5011</td>\n",
              "      <td>560</td>\n",
              "      <td>1</td>\n",
              "      <td>1</td>\n",
              "      <td>1</td>\n",
              "      <td>1270.0</td>\n",
              "      <td>9.0</td>\n",
              "      <td>2008.0</td>\n",
              "      <td>0</td>\n",
              "      <td>0.0</td>\n",
              "      <td>0.0</td>\n",
              "      <td>28</td>\n",
              "      <td>7</td>\n",
              "      <td>2015</td>\n",
              "      <td>31</td>\n",
              "      <td>0</td>\n",
              "      <td>0</td>\n",
              "      <td>1</td>\n",
              "      <td>0</td>\n",
              "      <td>1</td>\n",
              "      <td>0</td>\n",
              "      <td>0</td>\n",
              "      <td>1</td>\n",
              "      <td>0</td>\n",
              "      <td>0</td>\n",
              "      <td>0</td>\n",
              "      <td>0</td>\n",
              "      <td>0</td>\n",
              "      <td>1</td>\n",
              "      <td>0</td>\n",
              "    </tr>\n",
              "    <tr>\n",
              "      <th>4</th>\n",
              "      <td>1</td>\n",
              "      <td>1</td>\n",
              "      <td>2015-07-27</td>\n",
              "      <td>6102</td>\n",
              "      <td>612</td>\n",
              "      <td>1</td>\n",
              "      <td>1</td>\n",
              "      <td>1</td>\n",
              "      <td>1270.0</td>\n",
              "      <td>9.0</td>\n",
              "      <td>2008.0</td>\n",
              "      <td>0</td>\n",
              "      <td>0.0</td>\n",
              "      <td>0.0</td>\n",
              "      <td>27</td>\n",
              "      <td>7</td>\n",
              "      <td>2015</td>\n",
              "      <td>31</td>\n",
              "      <td>0</td>\n",
              "      <td>0</td>\n",
              "      <td>1</td>\n",
              "      <td>0</td>\n",
              "      <td>1</td>\n",
              "      <td>0</td>\n",
              "      <td>0</td>\n",
              "      <td>1</td>\n",
              "      <td>0</td>\n",
              "      <td>0</td>\n",
              "      <td>0</td>\n",
              "      <td>0</td>\n",
              "      <td>0</td>\n",
              "      <td>1</td>\n",
              "      <td>0</td>\n",
              "    </tr>\n",
              "  </tbody>\n",
              "</table>\n",
              "</div>"
            ],
            "text/plain": [
              "   Store  DayOfWeek  ... StateHoliday_Normal day  StateHoliday_Public Holiday\n",
              "0      1          5  ...                       1                            0\n",
              "1      1          4  ...                       1                            0\n",
              "2      1          3  ...                       1                            0\n",
              "3      1          2  ...                       1                            0\n",
              "4      1          1  ...                       1                            0\n",
              "\n",
              "[5 rows x 33 columns]"
            ]
          },
          "metadata": {},
          "execution_count": 52
        }
      ],
      "source": [
        "df = pd.get_dummies(data = df, columns= ['StoreType', 'Assortment', 'PromoInterval', 'StateHoliday'])\n",
        "df.head()"
      ]
    },
    {
      "cell_type": "code",
      "execution_count": null,
      "metadata": {
        "id": "b0xuO4ET_bJ6",
        "colab": {
          "base_uri": "https://localhost:8080/"
        },
        "outputId": "ee6d5305-279e-4213-a33e-0da0679cfac8"
      },
      "outputs": [
        {
          "output_type": "stream",
          "name": "stdout",
          "text": [
            "<class 'pandas.core.frame.DataFrame'>\n",
            "Int64Index: 1017209 entries, 0 to 1017208\n",
            "Data columns (total 33 columns):\n",
            " #   Column                          Non-Null Count    Dtype         \n",
            "---  ------                          --------------    -----         \n",
            " 0   Store                           1017209 non-null  int64         \n",
            " 1   DayOfWeek                       1017209 non-null  int64         \n",
            " 2   Date                            1017209 non-null  datetime64[ns]\n",
            " 3   Sales                           1017209 non-null  int64         \n",
            " 4   Customers                       1017209 non-null  int64         \n",
            " 5   Open                            1017209 non-null  int64         \n",
            " 6   Promo                           1017209 non-null  int64         \n",
            " 7   SchoolHoliday                   1017209 non-null  int64         \n",
            " 8   CompetitionDistance             1017209 non-null  float64       \n",
            " 9   CompetitionOpenSinceMonth       1017209 non-null  float64       \n",
            " 10  CompetitionOpenSinceYear        1017209 non-null  float64       \n",
            " 11  Promo2                          1017209 non-null  int64         \n",
            " 12  Promo2SinceWeek                 1017209 non-null  float64       \n",
            " 13  Promo2SinceYear                 1017209 non-null  float64       \n",
            " 14  Day                             1017209 non-null  int64         \n",
            " 15  Month                           1017209 non-null  int64         \n",
            " 16  Year                            1017209 non-null  int64         \n",
            " 17  Week                            1017209 non-null  int64         \n",
            " 18  StoreType_a                     1017209 non-null  uint8         \n",
            " 19  StoreType_b                     1017209 non-null  uint8         \n",
            " 20  StoreType_c                     1017209 non-null  uint8         \n",
            " 21  StoreType_d                     1017209 non-null  uint8         \n",
            " 22  Assortment_a                    1017209 non-null  uint8         \n",
            " 23  Assortment_b                    1017209 non-null  uint8         \n",
            " 24  Assortment_c                    1017209 non-null  uint8         \n",
            " 25  PromoInterval_0                 1017209 non-null  uint8         \n",
            " 26  PromoInterval_Feb,May,Aug,Nov   1017209 non-null  uint8         \n",
            " 27  PromoInterval_Jan,Apr,Jul,Oct   1017209 non-null  uint8         \n",
            " 28  PromoInterval_Mar,Jun,Sept,Dec  1017209 non-null  uint8         \n",
            " 29  StateHoliday_Christmas          1017209 non-null  uint8         \n",
            " 30  StateHoliday_Easter holiday     1017209 non-null  uint8         \n",
            " 31  StateHoliday_Normal day         1017209 non-null  uint8         \n",
            " 32  StateHoliday_Public Holiday     1017209 non-null  uint8         \n",
            "dtypes: datetime64[ns](1), float64(5), int64(12), uint8(15)\n",
            "memory usage: 162.0 MB\n"
          ]
        }
      ],
      "source": [
        "df.info()"
      ]
    },
    {
      "cell_type": "markdown",
      "metadata": {
        "id": "QP3_3_P8BJ7a"
      },
      "source": [
        "# **Machine learning** "
      ]
    },
    {
      "cell_type": "code",
      "execution_count": null,
      "metadata": {
        "id": "bbER5kpGgG-M"
      },
      "outputs": [],
      "source": [
        "df.drop('Date', axis= 1, inplace = True)"
      ]
    },
    {
      "cell_type": "code",
      "execution_count": null,
      "metadata": {
        "id": "A9LlcfAaGLcx",
        "colab": {
          "base_uri": "https://localhost:8080/"
        },
        "outputId": "93781bbc-fbf1-4366-9ee8-949a0f281257"
      },
      "outputs": [
        {
          "output_type": "stream",
          "name": "stdout",
          "text": [
            "<class 'pandas.core.frame.DataFrame'>\n",
            "Int64Index: 1017209 entries, 0 to 1017208\n",
            "Data columns (total 30 columns):\n",
            " #   Column                          Non-Null Count    Dtype  \n",
            "---  ------                          --------------    -----  \n",
            " 0   Store                           1017209 non-null  int64  \n",
            " 1   DayOfWeek                       1017209 non-null  int64  \n",
            " 2   Open                            1017209 non-null  int64  \n",
            " 3   Promo                           1017209 non-null  int64  \n",
            " 4   SchoolHoliday                   1017209 non-null  int64  \n",
            " 5   CompetitionDistance             1017209 non-null  float64\n",
            " 6   CompetitionOpenSinceMonth       1017209 non-null  float64\n",
            " 7   CompetitionOpenSinceYear        1017209 non-null  float64\n",
            " 8   Promo2                          1017209 non-null  int64  \n",
            " 9   Promo2SinceWeek                 1017209 non-null  float64\n",
            " 10  Promo2SinceYear                 1017209 non-null  float64\n",
            " 11  Day                             1017209 non-null  int64  \n",
            " 12  Month                           1017209 non-null  int64  \n",
            " 13  Year                            1017209 non-null  int64  \n",
            " 14  Week                            1017209 non-null  int64  \n",
            " 15  StoreType_a                     1017209 non-null  uint8  \n",
            " 16  StoreType_b                     1017209 non-null  uint8  \n",
            " 17  StoreType_c                     1017209 non-null  uint8  \n",
            " 18  StoreType_d                     1017209 non-null  uint8  \n",
            " 19  Assortment_a                    1017209 non-null  uint8  \n",
            " 20  Assortment_b                    1017209 non-null  uint8  \n",
            " 21  Assortment_c                    1017209 non-null  uint8  \n",
            " 22  PromoInterval_0                 1017209 non-null  uint8  \n",
            " 23  PromoInterval_Feb,May,Aug,Nov   1017209 non-null  uint8  \n",
            " 24  PromoInterval_Jan,Apr,Jul,Oct   1017209 non-null  uint8  \n",
            " 25  PromoInterval_Mar,Jun,Sept,Dec  1017209 non-null  uint8  \n",
            " 26  StateHoliday_Christmas          1017209 non-null  uint8  \n",
            " 27  StateHoliday_Easter holiday     1017209 non-null  uint8  \n",
            " 28  StateHoliday_Normal day         1017209 non-null  uint8  \n",
            " 29  StateHoliday_Public Holiday     1017209 non-null  uint8  \n",
            "dtypes: float64(5), int64(10), uint8(15)\n",
            "memory usage: 138.7 MB\n"
          ]
        },
        {
          "output_type": "execute_result",
          "data": {
            "text/plain": [
              "0          5263\n",
              "1          5020\n",
              "2          4782\n",
              "3          5011\n",
              "4          6102\n",
              "           ... \n",
              "1017204    4771\n",
              "1017205    4540\n",
              "1017206    4297\n",
              "1017207    3697\n",
              "1017208       0\n",
              "Name: Sales, Length: 1017209, dtype: int64"
            ]
          },
          "metadata": {},
          "execution_count": 55
        }
      ],
      "source": [
        "train_x = df.drop(['Sales','Customers'], axis=1)\n",
        "train_y = df['Sales']\n",
        "train_x.info()\n",
        "train_y"
      ]
    },
    {
      "cell_type": "code",
      "execution_count": null,
      "metadata": {
        "id": "hldaTKKTHSTv"
      },
      "outputs": [],
      "source": [
        "# Splitting the data into train and test set (80% train and 20% test)\n",
        "\n",
        "from sklearn.model_selection import train_test_split\n",
        "X_train, X_test, y_train, y_test = train_test_split(train_x, train_y, test_size=0.2, random_state=42)"
      ]
    },
    {
      "cell_type": "code",
      "execution_count": null,
      "metadata": {
        "id": "gVO-cA7lH8Cu",
        "colab": {
          "base_uri": "https://localhost:8080/"
        },
        "outputId": "f23f4e0d-26f8-4326-dec8-29b014e06483"
      },
      "outputs": [
        {
          "output_type": "stream",
          "name": "stderr",
          "text": [
            "[Parallel(n_jobs=-1)]: Using backend ThreadingBackend with 2 concurrent workers.\n"
          ]
        },
        {
          "output_type": "stream",
          "name": "stdout",
          "text": [
            "building tree 1 of 100\n",
            "building tree 2 of 100\n"
          ]
        },
        {
          "output_type": "stream",
          "name": "stderr",
          "text": [
            "[Parallel(n_jobs=-1)]: Done   1 tasks      | elapsed:   12.4s\n"
          ]
        },
        {
          "output_type": "stream",
          "name": "stdout",
          "text": [
            "building tree 3 of 100\n",
            "building tree 4 of 100\n",
            "building tree 5 of 100\n",
            "building tree 6 of 100\n"
          ]
        },
        {
          "output_type": "stream",
          "name": "stderr",
          "text": [
            "[Parallel(n_jobs=-1)]: Done   4 tasks      | elapsed:   25.1s\n"
          ]
        },
        {
          "output_type": "stream",
          "name": "stdout",
          "text": [
            "building tree 7 of 100\n",
            "building tree 8 of 100\n",
            "building tree 9 of 100\n",
            "building tree 10 of 100\n"
          ]
        },
        {
          "output_type": "stream",
          "name": "stderr",
          "text": [
            "[Parallel(n_jobs=-1)]: Done   9 tasks      | elapsed:  1.0min\n"
          ]
        },
        {
          "output_type": "stream",
          "name": "stdout",
          "text": [
            "building tree 11 of 100\n",
            "building tree 12 of 100\n",
            "building tree 13 of 100\n",
            "building tree 14 of 100\n",
            "building tree 15 of 100\n"
          ]
        },
        {
          "output_type": "stream",
          "name": "stderr",
          "text": [
            "[Parallel(n_jobs=-1)]: Done  14 tasks      | elapsed:  1.4min\n"
          ]
        },
        {
          "output_type": "stream",
          "name": "stdout",
          "text": [
            "building tree 16 of 100\n",
            "building tree 17 of 100\n",
            "building tree 18 of 100\n",
            "building tree 19 of 100\n",
            "building tree 20 of 100\n",
            "building tree 21 of 100\n",
            "building tree 22 of 100\n"
          ]
        },
        {
          "output_type": "stream",
          "name": "stderr",
          "text": [
            "[Parallel(n_jobs=-1)]: Done  21 tasks      | elapsed:  2.2min\n"
          ]
        },
        {
          "output_type": "stream",
          "name": "stdout",
          "text": [
            "building tree 23 of 100\n",
            "building tree 24 of 100\n",
            "building tree 25 of 100\n",
            "building tree 26 of 100\n",
            "building tree 27 of 100\n",
            "building tree 28 of 100\n",
            "building tree 29 of 100\n"
          ]
        },
        {
          "output_type": "stream",
          "name": "stderr",
          "text": [
            "[Parallel(n_jobs=-1)]: Done  28 tasks      | elapsed:  2.8min\n"
          ]
        },
        {
          "output_type": "stream",
          "name": "stdout",
          "text": [
            "building tree 30 of 100\n",
            "building tree 31 of 100\n",
            "building tree 32 of 100\n",
            "building tree 33 of 100\n",
            "building tree 34 of 100\n",
            "building tree 35 of 100\n",
            "building tree 36 of 100\n",
            "building tree 37 of 100\n",
            "building tree 38 of 100\n"
          ]
        },
        {
          "output_type": "stream",
          "name": "stderr",
          "text": [
            "[Parallel(n_jobs=-1)]: Done  37 tasks      | elapsed:  3.7min\n"
          ]
        },
        {
          "output_type": "stream",
          "name": "stdout",
          "text": [
            "building tree 39 of 100\n",
            "building tree 40 of 100\n",
            "building tree 41 of 100\n",
            "building tree 42 of 100\n",
            "building tree 43 of 100\n",
            "building tree 44 of 100\n",
            "building tree 45 of 100\n",
            "building tree 46 of 100\n",
            "building tree 47 of 100\n"
          ]
        },
        {
          "output_type": "stream",
          "name": "stderr",
          "text": [
            "[Parallel(n_jobs=-1)]: Done  46 tasks      | elapsed:  4.6min\n"
          ]
        },
        {
          "output_type": "stream",
          "name": "stdout",
          "text": [
            "building tree 48 of 100\n",
            "building tree 49 of 100\n",
            "building tree 50 of 100\n",
            "building tree 51 of 100\n",
            "building tree 52 of 100\n",
            "building tree 53 of 100\n",
            "building tree 54 of 100\n",
            "building tree 55 of 100\n",
            "building tree 56 of 100\n",
            "building tree 57 of 100\n",
            "building tree 58 of 100\n"
          ]
        },
        {
          "output_type": "stream",
          "name": "stderr",
          "text": [
            "[Parallel(n_jobs=-1)]: Done  57 tasks      | elapsed:  5.7min\n"
          ]
        },
        {
          "output_type": "stream",
          "name": "stdout",
          "text": [
            "building tree 59 of 100\n",
            "building tree 60 of 100\n",
            "building tree 61 of 100\n",
            "building tree 62 of 100\n",
            "building tree 63 of 100\n",
            "building tree 64 of 100\n",
            "building tree 65 of 100\n",
            "building tree 66 of 100\n",
            "building tree 67 of 100\n",
            "building tree 68 of 100\n",
            "building tree 69 of 100\n"
          ]
        },
        {
          "output_type": "stream",
          "name": "stderr",
          "text": [
            "[Parallel(n_jobs=-1)]: Done  68 tasks      | elapsed:  6.7min\n"
          ]
        },
        {
          "output_type": "stream",
          "name": "stdout",
          "text": [
            "building tree 70 of 100\n",
            "building tree 71 of 100\n",
            "building tree 72 of 100\n",
            "building tree 73 of 100\n",
            "building tree 74 of 100\n",
            "building tree 75 of 100\n",
            "building tree 76 of 100\n",
            "building tree 77 of 100\n",
            "building tree 78 of 100\n",
            "building tree 79 of 100\n",
            "building tree 80 of 100\n",
            "building tree 81 of 100\n",
            "building tree 82 of 100\n"
          ]
        },
        {
          "output_type": "stream",
          "name": "stderr",
          "text": [
            "[Parallel(n_jobs=-1)]: Done  81 tasks      | elapsed:  8.1min\n"
          ]
        },
        {
          "output_type": "stream",
          "name": "stdout",
          "text": [
            "building tree 83 of 100\n",
            "building tree 84 of 100\n",
            "building tree 85 of 100\n",
            "building tree 86 of 100\n",
            "building tree 87 of 100\n",
            "building tree 88 of 100\n",
            "building tree 89 of 100\n",
            "building tree 90 of 100\n",
            "building tree 91 of 100\n",
            "building tree 92 of 100\n",
            "building tree 93 of 100\n",
            "building tree 94 of 100\n",
            "building tree 95 of 100\n"
          ]
        },
        {
          "output_type": "stream",
          "name": "stderr",
          "text": [
            "[Parallel(n_jobs=-1)]: Done  94 tasks      | elapsed:  9.3min\n"
          ]
        },
        {
          "output_type": "stream",
          "name": "stdout",
          "text": [
            "building tree 96 of 100\n",
            "building tree 97 of 100\n",
            "building tree 98 of 100\n",
            "building tree 99 of 100\n",
            "building tree 100 of 100\n"
          ]
        },
        {
          "output_type": "stream",
          "name": "stderr",
          "text": [
            "[Parallel(n_jobs=-1)]: Done 100 out of 100 | elapsed:  9.9min finished\n"
          ]
        },
        {
          "output_type": "execute_result",
          "data": {
            "text/plain": [
              "RandomForestRegressor(n_jobs=-1, random_state=42, verbose=10)"
            ]
          },
          "metadata": {},
          "execution_count": 57
        }
      ],
      "source": [
        "# Import random forest regressor model\n",
        "from sklearn.ensemble import RandomForestRegressor\n",
        "\n",
        "# # instantiate random forest regressor with (RandomForestRegressor)\n",
        "#     # n_estimatorsint, default=100 , (>100 -> crash)\n",
        "#     # random_state=42 : get the same result , every time when we run the code\n",
        "rfr=RandomForestRegressor(n_jobs=-1,verbose=10,random_state=42)\n",
        "\n",
        "# # Fit the data \n",
        "rfr.fit(X_train,y_train)"
      ]
    },
    {
      "cell_type": "code",
      "execution_count": null,
      "metadata": {
        "id": "0RDDwALZLmqE",
        "colab": {
          "base_uri": "https://localhost:8080/",
          "height": 990
        },
        "outputId": "de9b7069-6d79-4583-d32b-902277aa8f65"
      },
      "outputs": [
        {
          "output_type": "execute_result",
          "data": {
            "text/html": [
              "<div>\n",
              "<style scoped>\n",
              "    .dataframe tbody tr th:only-of-type {\n",
              "        vertical-align: middle;\n",
              "    }\n",
              "\n",
              "    .dataframe tbody tr th {\n",
              "        vertical-align: top;\n",
              "    }\n",
              "\n",
              "    .dataframe thead th {\n",
              "        text-align: right;\n",
              "    }\n",
              "</style>\n",
              "<table border=\"1\" class=\"dataframe\">\n",
              "  <thead>\n",
              "    <tr style=\"text-align: right;\">\n",
              "      <th></th>\n",
              "      <th>0</th>\n",
              "    </tr>\n",
              "  </thead>\n",
              "  <tbody>\n",
              "    <tr>\n",
              "      <th>Open</th>\n",
              "      <td>0.459925</td>\n",
              "    </tr>\n",
              "    <tr>\n",
              "      <th>CompetitionDistance</th>\n",
              "      <td>0.101555</td>\n",
              "    </tr>\n",
              "    <tr>\n",
              "      <th>Store</th>\n",
              "      <td>0.087030</td>\n",
              "    </tr>\n",
              "    <tr>\n",
              "      <th>Promo</th>\n",
              "      <td>0.073256</td>\n",
              "    </tr>\n",
              "    <tr>\n",
              "      <th>CompetitionOpenSinceYear</th>\n",
              "      <td>0.039952</td>\n",
              "    </tr>\n",
              "    <tr>\n",
              "      <th>DayOfWeek</th>\n",
              "      <td>0.037315</td>\n",
              "    </tr>\n",
              "    <tr>\n",
              "      <th>CompetitionOpenSinceMonth</th>\n",
              "      <td>0.036437</td>\n",
              "    </tr>\n",
              "    <tr>\n",
              "      <th>Day</th>\n",
              "      <td>0.024821</td>\n",
              "    </tr>\n",
              "    <tr>\n",
              "      <th>Week</th>\n",
              "      <td>0.022031</td>\n",
              "    </tr>\n",
              "    <tr>\n",
              "      <th>Promo2SinceYear</th>\n",
              "      <td>0.021389</td>\n",
              "    </tr>\n",
              "    <tr>\n",
              "      <th>Promo2SinceWeek</th>\n",
              "      <td>0.014293</td>\n",
              "    </tr>\n",
              "    <tr>\n",
              "      <th>StoreType_b</th>\n",
              "      <td>0.013924</td>\n",
              "    </tr>\n",
              "    <tr>\n",
              "      <th>Month</th>\n",
              "      <td>0.010108</td>\n",
              "    </tr>\n",
              "    <tr>\n",
              "      <th>Year</th>\n",
              "      <td>0.008968</td>\n",
              "    </tr>\n",
              "    <tr>\n",
              "      <th>StoreType_a</th>\n",
              "      <td>0.008749</td>\n",
              "    </tr>\n",
              "    <tr>\n",
              "      <th>Assortment_c</th>\n",
              "      <td>0.008460</td>\n",
              "    </tr>\n",
              "    <tr>\n",
              "      <th>Assortment_a</th>\n",
              "      <td>0.005835</td>\n",
              "    </tr>\n",
              "    <tr>\n",
              "      <th>StoreType_c</th>\n",
              "      <td>0.005492</td>\n",
              "    </tr>\n",
              "    <tr>\n",
              "      <th>StoreType_d</th>\n",
              "      <td>0.004716</td>\n",
              "    </tr>\n",
              "    <tr>\n",
              "      <th>PromoInterval_Mar,Jun,Sept,Dec</th>\n",
              "      <td>0.003660</td>\n",
              "    </tr>\n",
              "    <tr>\n",
              "      <th>SchoolHoliday</th>\n",
              "      <td>0.003465</td>\n",
              "    </tr>\n",
              "    <tr>\n",
              "      <th>PromoInterval_Jan,Apr,Jul,Oct</th>\n",
              "      <td>0.003023</td>\n",
              "    </tr>\n",
              "    <tr>\n",
              "      <th>PromoInterval_Feb,May,Aug,Nov</th>\n",
              "      <td>0.001713</td>\n",
              "    </tr>\n",
              "    <tr>\n",
              "      <th>Promo2</th>\n",
              "      <td>0.001516</td>\n",
              "    </tr>\n",
              "    <tr>\n",
              "      <th>PromoInterval_0</th>\n",
              "      <td>0.001256</td>\n",
              "    </tr>\n",
              "    <tr>\n",
              "      <th>StateHoliday_Normal day</th>\n",
              "      <td>0.000681</td>\n",
              "    </tr>\n",
              "    <tr>\n",
              "      <th>Assortment_b</th>\n",
              "      <td>0.000298</td>\n",
              "    </tr>\n",
              "    <tr>\n",
              "      <th>StateHoliday_Public Holiday</th>\n",
              "      <td>0.000107</td>\n",
              "    </tr>\n",
              "    <tr>\n",
              "      <th>StateHoliday_Easter holiday</th>\n",
              "      <td>0.000014</td>\n",
              "    </tr>\n",
              "    <tr>\n",
              "      <th>StateHoliday_Christmas</th>\n",
              "      <td>0.000011</td>\n",
              "    </tr>\n",
              "  </tbody>\n",
              "</table>\n",
              "</div>"
            ],
            "text/plain": [
              "                                       0\n",
              "Open                            0.459925\n",
              "CompetitionDistance             0.101555\n",
              "Store                           0.087030\n",
              "Promo                           0.073256\n",
              "CompetitionOpenSinceYear        0.039952\n",
              "DayOfWeek                       0.037315\n",
              "CompetitionOpenSinceMonth       0.036437\n",
              "Day                             0.024821\n",
              "Week                            0.022031\n",
              "Promo2SinceYear                 0.021389\n",
              "Promo2SinceWeek                 0.014293\n",
              "StoreType_b                     0.013924\n",
              "Month                           0.010108\n",
              "Year                            0.008968\n",
              "StoreType_a                     0.008749\n",
              "Assortment_c                    0.008460\n",
              "Assortment_a                    0.005835\n",
              "StoreType_c                     0.005492\n",
              "StoreType_d                     0.004716\n",
              "PromoInterval_Mar,Jun,Sept,Dec  0.003660\n",
              "SchoolHoliday                   0.003465\n",
              "PromoInterval_Jan,Apr,Jul,Oct   0.003023\n",
              "PromoInterval_Feb,May,Aug,Nov   0.001713\n",
              "Promo2                          0.001516\n",
              "PromoInterval_0                 0.001256\n",
              "StateHoliday_Normal day         0.000681\n",
              "Assortment_b                    0.000298\n",
              "StateHoliday_Public Holiday     0.000107\n",
              "StateHoliday_Easter holiday     0.000014\n",
              "StateHoliday_Christmas          0.000011"
            ]
          },
          "metadata": {},
          "execution_count": 58
        }
      ],
      "source": [
        "\n",
        "# Get Importance of the features\n",
        "feature_importances_ = pd.DataFrame(rfr.feature_importances_,index=X_train.columns)\n",
        "feature_importances_= feature_importances_.sort_values(by=0,ascending=False)\n",
        "feature_importances_"
      ]
    },
    {
      "cell_type": "code",
      "execution_count": null,
      "metadata": {
        "id": "RsbzUh78h1bp",
        "colab": {
          "base_uri": "https://localhost:8080/",
          "height": 206
        },
        "outputId": "4ef7520b-4ae3-4fc6-8766-77e893c61c0f"
      },
      "outputs": [
        {
          "output_type": "execute_result",
          "data": {
            "text/html": [
              "<div>\n",
              "<style scoped>\n",
              "    .dataframe tbody tr th:only-of-type {\n",
              "        vertical-align: middle;\n",
              "    }\n",
              "\n",
              "    .dataframe tbody tr th {\n",
              "        vertical-align: top;\n",
              "    }\n",
              "\n",
              "    .dataframe thead th {\n",
              "        text-align: right;\n",
              "    }\n",
              "</style>\n",
              "<table border=\"1\" class=\"dataframe\">\n",
              "  <thead>\n",
              "    <tr style=\"text-align: right;\">\n",
              "      <th></th>\n",
              "      <th>0</th>\n",
              "    </tr>\n",
              "  </thead>\n",
              "  <tbody>\n",
              "    <tr>\n",
              "      <th>Open</th>\n",
              "      <td>0.459925</td>\n",
              "    </tr>\n",
              "    <tr>\n",
              "      <th>CompetitionDistance</th>\n",
              "      <td>0.101555</td>\n",
              "    </tr>\n",
              "    <tr>\n",
              "      <th>Store</th>\n",
              "      <td>0.087030</td>\n",
              "    </tr>\n",
              "    <tr>\n",
              "      <th>Promo</th>\n",
              "      <td>0.073256</td>\n",
              "    </tr>\n",
              "    <tr>\n",
              "      <th>CompetitionOpenSinceYear</th>\n",
              "      <td>0.039952</td>\n",
              "    </tr>\n",
              "  </tbody>\n",
              "</table>\n",
              "</div>"
            ],
            "text/plain": [
              "                                 0\n",
              "Open                      0.459925\n",
              "CompetitionDistance       0.101555\n",
              "Store                     0.087030\n",
              "Promo                     0.073256\n",
              "CompetitionOpenSinceYear  0.039952"
            ]
          },
          "metadata": {},
          "execution_count": 59
        }
      ],
      "source": [
        "feature_importances_.head()"
      ]
    },
    {
      "cell_type": "code",
      "execution_count": null,
      "metadata": {
        "id": "k5Uv3nACcD-J",
        "colab": {
          "base_uri": "https://localhost:8080/",
          "height": 369
        },
        "outputId": "5abb82f1-da0f-49a4-9f60-6da2baa51d92"
      },
      "outputs": [
        {
          "output_type": "execute_result",
          "data": {
            "text/plain": [
              "Text(0.5, 1.0, 'Importance of the features in random forest regressor ')"
            ]
          },
          "metadata": {},
          "execution_count": 60
        },
        {
          "output_type": "display_data",
          "data": {
            "image/png": "[encoded data removed]",
            "text/plain": [
              "<Figure size 720x144 with 1 Axes>"
            ]
          },
          "metadata": {
            "needs_background": "light"
          }
        }
      ],
      "source": [
        "# Represent features in graph\n",
        "feature_importances_.plot.bar(figsize=(10 , 2), color = 'g', legend = 0)\n",
        "plt.xlabel('Feature' , size= 20)\n",
        "plt.ylabel('Importance' , size= 20)\n",
        "plt.grid()\n",
        "plt.title('Importance of the features in random forest regressor ', size= 20)"
      ]
    },
    {
      "cell_type": "code",
      "execution_count": null,
      "metadata": {
        "id": "hyYUe11KMKfj",
        "colab": {
          "base_uri": "https://localhost:8080/"
        },
        "outputId": "6a58524f-535d-4d9e-c390-9b9d5ddfe60e"
      },
      "outputs": [
        {
          "output_type": "stream",
          "name": "stderr",
          "text": [
            "[Parallel(n_jobs=2)]: Using backend ThreadingBackend with 2 concurrent workers.\n",
            "[Parallel(n_jobs=2)]: Done   1 tasks      | elapsed:    0.3s\n",
            "[Parallel(n_jobs=2)]: Done   4 tasks      | elapsed:    0.6s\n",
            "[Parallel(n_jobs=2)]: Done   9 tasks      | elapsed:    1.3s\n",
            "[Parallel(n_jobs=2)]: Done  14 tasks      | elapsed:    1.8s\n",
            "[Parallel(n_jobs=2)]: Done  21 tasks      | elapsed:    2.6s\n",
            "[Parallel(n_jobs=2)]: Done  28 tasks      | elapsed:    3.4s\n",
            "[Parallel(n_jobs=2)]: Done  37 tasks      | elapsed:    4.8s\n",
            "[Parallel(n_jobs=2)]: Done  46 tasks      | elapsed:    6.0s\n",
            "[Parallel(n_jobs=2)]: Done  57 tasks      | elapsed:    7.3s\n",
            "[Parallel(n_jobs=2)]: Done  68 tasks      | elapsed:    8.5s\n",
            "[Parallel(n_jobs=2)]: Done  81 tasks      | elapsed:   10.0s\n",
            "[Parallel(n_jobs=2)]: Done  94 tasks      | elapsed:   11.6s\n",
            "[Parallel(n_jobs=2)]: Done 100 out of 100 | elapsed:   12.3s finished\n"
          ]
        },
        {
          "output_type": "execute_result",
          "data": {
            "text/plain": [
              "array([11330.81,  1976.35,  4610.23, ...,  6130.52,  7656.83,  9684.14])"
            ]
          },
          "metadata": {},
          "execution_count": 61
        }
      ],
      "source": [
        "# Get prediction using our test data\n",
        "predict=rfr.predict(X_test)\n",
        "predict"
      ]
    },
    {
      "cell_type": "code",
      "execution_count": null,
      "metadata": {
        "id": "I-sWpWzPMcDZ",
        "colab": {
          "base_uri": "https://localhost:8080/"
        },
        "outputId": "37747c9d-05ac-47cf-eb2e-7538c4fadb41"
      },
      "outputs": [
        {
          "output_type": "stream",
          "name": "stdout",
          "text": [
            "Root Mean Square Error 828.7567389028258\n"
          ]
        }
      ],
      "source": [
        "# Import regression metrics and sqrt\n",
        "from sklearn.metrics import mean_squared_error\n",
        "from math import sqrt\n",
        "\n",
        "# # calculating the performance of random forest model\n",
        "mse=mean_squared_error(y_test, predict)\n",
        "print('Root Mean Square Error {}'.format(sqrt(mse)))"
      ]
    },
    {
      "cell_type": "markdown",
      "metadata": {
        "id": "_I0fG7o69S1d"
      },
      "source": [
        "\n",
        "is it good ?"
      ]
    },
    {
      "cell_type": "code",
      "execution_count": null,
      "metadata": {
        "id": "YB-7bhGvOFKn"
      },
      "outputs": [],
      "source": [
        "from sklearn.linear_model import LinearRegression\n"
      ]
    },
    {
      "cell_type": "code",
      "execution_count": null,
      "metadata": {
        "id": "25NoEMz8O8zn",
        "colab": {
          "base_uri": "https://localhost:8080/"
        },
        "outputId": "0cc795bd-74a4-4b71-acb4-426a5e06a2cf"
      },
      "outputs": [
        {
          "output_type": "execute_result",
          "data": {
            "text/plain": [
              "LinearRegression(n_jobs=-1)"
            ]
          },
          "metadata": {},
          "execution_count": 64
        }
      ],
      "source": [
        "lr=LinearRegression(n_jobs=-1)\n",
        "lr.fit(X_train, y_train)"
      ]
    },
    {
      "cell_type": "code",
      "execution_count": null,
      "metadata": {
        "id": "8YtPglCFP1SH"
      },
      "outputs": [],
      "source": [
        "lr_predict = lr.predict(X_test)"
      ]
    },
    {
      "cell_type": "code",
      "execution_count": null,
      "metadata": {
        "id": "hJcp4TwZPvKd",
        "colab": {
          "base_uri": "https://localhost:8080/"
        },
        "outputId": "102cceef-d56d-4e16-f1cd-945e1e80d515"
      },
      "outputs": [
        {
          "output_type": "stream",
          "name": "stdout",
          "text": [
            "Root Mean Square Error 2508.917338730856\n"
          ]
        }
      ],
      "source": [
        "\n",
        "mse=mean_squared_error(y_test, lr_predict)\n",
        "print('Root Mean Square Error {}'.format(sqrt(mse)))"
      ]
    }
  ],
  "metadata": {
    "colab": {
      "collapsed_sections": [],
      "name": "RossmanSales_ExploratoryDataAnalysis_IntroductionToMachineLearning[RF vs LR]",
      "provenance": []
    },
    "kernelspec": {
      "display_name": "Python 3",
      "name": "python3"
    },
    "language_info": {
      "name": "python"
    }
  },
  "nbformat": 4,
  "nbformat_minor": 0
}